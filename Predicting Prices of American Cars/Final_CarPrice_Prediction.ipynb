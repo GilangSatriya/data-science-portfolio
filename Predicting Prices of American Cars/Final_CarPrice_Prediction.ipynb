{
 "cells": [
  {
   "cell_type": "markdown",
   "metadata": {},
   "source": [
    "# <center> Predicting The Prices of American Cars"
   ]
  },
  {
   "cell_type": "markdown",
   "metadata": {},
   "source": [
    "<img src='https://amcdn.blob.core.windows.net/media/1/root/car-price-tag.jpg' width='450'> "
   ]
  },
  {
   "cell_type": "markdown",
   "metadata": {},
   "source": [
    "# Problem Background:\n",
    "\n",
    "A Chinese automobile company Geely Auto aspires to enter the US market by setting up their manufacturing unit there and producing cars locally to give competition to their US and European counterparts. \n",
    "\n",
    "They have contracted an automobile consulting company to understand the factors on which the pricing of cars depends. Specifically, the company wants to understand which factors are affecting the pricing of cars in the American market, since those may be very different from the Chinese market. So the main objectives of this project or what are the company wants to know are:\n",
    "##  Main Objectives :\n",
    "\n",
    "* Which variables are significant in predicting the price of a car?\n",
    "* How well those variables describe the price of a car?"
   ]
  },
  {
   "cell_type": "markdown",
   "metadata": {},
   "source": [
    "## Business Goal :\n",
    "In this project we are required to build a model of the price of cars with the available independent variables within dataset. This model will be used by the management team to understand how exactly the prices vary with the independent variables. With those data, they can manipulate the design of the cars, the business strategy etc. to meet certain price levels. Further, the finished model will be a good way for management to understand the pricing dynamics of a new market(in this case is american market).\n"
   ]
  },
  {
   "cell_type": "markdown",
   "metadata": {},
   "source": [
    "# Table of Contents:\n",
    "\n",
    "1. [Part 1: Reading and Understanding the Data](#1)\n",
    "1.  [Part 2: Cleaning the Data](#2)\n",
    "    - Missing Value check\n",
    "    - Data type check\n",
    "    - Duplicate check\n",
    "1. [Part 3: Data Visualization](#3)\n",
    "    - Boxplot\n",
    "    - Pairplot\n",
    "1. [Part 4: Data Preparation](#4) \n",
    "   - Dummy Variable\n",
    "1. [Part 5: Splitting the Data into Training and Testing Sets](#5)\n",
    "   - Rescaling\n",
    "1. [Part 6: Building a Linear Model](#6)\n",
    "   - RFE\n",
    "   - VIF\n",
    "1. [Part 7: Residual Analysis of the train data](#7)\n",
    "1. [Part 8: Making Predictions Using the Final Model](#8)\n",
    "1. [Part 9: Model Evaluation](#8)\n",
    "   - RMSE Score"
   ]
  },
  {
   "cell_type": "markdown",
   "metadata": {},
   "source": [
    "# Part 1 : Reading and Understanding the Data <a id=\"1\"></a> <br>"
   ]
  },
  {
   "cell_type": "markdown",
   "metadata": {},
   "source": [
    "<img src='https://visme.co/blog/wp-content/uploads/2021/08/Data-Visualization-thumbnail.jpg' width='450'> "
   ]
  },
  {
   "cell_type": "code",
   "execution_count": 1,
   "metadata": {},
   "outputs": [],
   "source": [
    "# import all libraries and dependencies for dataframe\n",
    "import pandas as pd\n",
    "import numpy as np\n",
    "import matplotlib.pyplot as plt\n",
    "import seaborn as sns\n",
    "import warnings\n",
    "warnings.filterwarnings(\"ignore\")\n",
    "from datetime import datetime, timedelta\n",
    "\n",
    "# import all libraries and dependencies for data visualization\n",
    "pd.options.display.float_format='{:.4f}'.format\n",
    "plt.rcParams['figure.figsize'] = [8,8]\n",
    "pd.set_option('display.max_columns', 500)\n",
    "pd.set_option('display.max_colwidth', -1) \n",
    "sns.set(style='darkgrid')\n",
    "import matplotlib.ticker as ticker\n",
    "import matplotlib.ticker as plticker\n",
    "\n",
    "# import all libraries and dependencies for machine learning\n",
    "from sklearn.model_selection import train_test_split\n",
    "from sklearn import preprocessing\n",
    "from sklearn.base import TransformerMixin\n",
    "from sklearn.model_selection import train_test_split\n",
    "from sklearn.preprocessing import MinMaxScaler\n",
    "import statsmodels.api as sm\n",
    "from sklearn.feature_selection import RFE\n",
    "from sklearn.linear_model import LinearRegression\n",
    "from statsmodels.stats.outliers_influence import variance_inflation_factor\n",
    "from sklearn.metrics import r2_score"
   ]
  },
  {
   "cell_type": "code",
   "execution_count": 2,
   "metadata": {},
   "outputs": [],
   "source": [
    "# Local file path. Please change the file path accordingly\n",
    "\n",
    "#path = '../car/car-price-prediction/'\n",
    "#file = 'CarPrice_Assignment.csv'\n",
    "#file1 = path +'Data Dictionary - carprices.xlsx'"
   ]
  },
  {
   "cell_type": "code",
   "execution_count": 3,
   "metadata": {},
   "outputs": [
    {
     "data": {
      "text/html": [
       "<div>\n",
       "<style scoped>\n",
       "    .dataframe tbody tr th:only-of-type {\n",
       "        vertical-align: middle;\n",
       "    }\n",
       "\n",
       "    .dataframe tbody tr th {\n",
       "        vertical-align: top;\n",
       "    }\n",
       "\n",
       "    .dataframe thead th {\n",
       "        text-align: right;\n",
       "    }\n",
       "</style>\n",
       "<table border=\"1\" class=\"dataframe\">\n",
       "  <thead>\n",
       "    <tr style=\"text-align: right;\">\n",
       "      <th></th>\n",
       "      <th>car_ID</th>\n",
       "      <th>symboling</th>\n",
       "      <th>CarName</th>\n",
       "      <th>fueltype</th>\n",
       "      <th>aspiration</th>\n",
       "      <th>doornumber</th>\n",
       "      <th>carbody</th>\n",
       "      <th>drivewheel</th>\n",
       "      <th>enginelocation</th>\n",
       "      <th>wheelbase</th>\n",
       "      <th>carlength</th>\n",
       "      <th>carwidth</th>\n",
       "      <th>carheight</th>\n",
       "      <th>curbweight</th>\n",
       "      <th>enginetype</th>\n",
       "      <th>cylindernumber</th>\n",
       "      <th>enginesize</th>\n",
       "      <th>fuelsystem</th>\n",
       "      <th>boreratio</th>\n",
       "      <th>stroke</th>\n",
       "      <th>compressionratio</th>\n",
       "      <th>horsepower</th>\n",
       "      <th>peakrpm</th>\n",
       "      <th>citympg</th>\n",
       "      <th>highwaympg</th>\n",
       "      <th>price</th>\n",
       "    </tr>\n",
       "  </thead>\n",
       "  <tbody>\n",
       "    <tr>\n",
       "      <th>0</th>\n",
       "      <td>1</td>\n",
       "      <td>3</td>\n",
       "      <td>alfa-romero giulia</td>\n",
       "      <td>gas</td>\n",
       "      <td>std</td>\n",
       "      <td>two</td>\n",
       "      <td>convertible</td>\n",
       "      <td>rwd</td>\n",
       "      <td>front</td>\n",
       "      <td>88.6000</td>\n",
       "      <td>168.8000</td>\n",
       "      <td>64.1000</td>\n",
       "      <td>48.8000</td>\n",
       "      <td>2548</td>\n",
       "      <td>dohc</td>\n",
       "      <td>four</td>\n",
       "      <td>130</td>\n",
       "      <td>mpfi</td>\n",
       "      <td>3.4700</td>\n",
       "      <td>2.6800</td>\n",
       "      <td>9.0000</td>\n",
       "      <td>111</td>\n",
       "      <td>5000</td>\n",
       "      <td>21</td>\n",
       "      <td>27</td>\n",
       "      <td>13495.0000</td>\n",
       "    </tr>\n",
       "    <tr>\n",
       "      <th>1</th>\n",
       "      <td>2</td>\n",
       "      <td>3</td>\n",
       "      <td>alfa-romero stelvio</td>\n",
       "      <td>gas</td>\n",
       "      <td>std</td>\n",
       "      <td>two</td>\n",
       "      <td>convertible</td>\n",
       "      <td>rwd</td>\n",
       "      <td>front</td>\n",
       "      <td>88.6000</td>\n",
       "      <td>168.8000</td>\n",
       "      <td>64.1000</td>\n",
       "      <td>48.8000</td>\n",
       "      <td>2548</td>\n",
       "      <td>dohc</td>\n",
       "      <td>four</td>\n",
       "      <td>130</td>\n",
       "      <td>mpfi</td>\n",
       "      <td>3.4700</td>\n",
       "      <td>2.6800</td>\n",
       "      <td>9.0000</td>\n",
       "      <td>111</td>\n",
       "      <td>5000</td>\n",
       "      <td>21</td>\n",
       "      <td>27</td>\n",
       "      <td>16500.0000</td>\n",
       "    </tr>\n",
       "    <tr>\n",
       "      <th>2</th>\n",
       "      <td>3</td>\n",
       "      <td>1</td>\n",
       "      <td>alfa-romero Quadrifoglio</td>\n",
       "      <td>gas</td>\n",
       "      <td>std</td>\n",
       "      <td>two</td>\n",
       "      <td>hatchback</td>\n",
       "      <td>rwd</td>\n",
       "      <td>front</td>\n",
       "      <td>94.5000</td>\n",
       "      <td>171.2000</td>\n",
       "      <td>65.5000</td>\n",
       "      <td>52.4000</td>\n",
       "      <td>2823</td>\n",
       "      <td>ohcv</td>\n",
       "      <td>six</td>\n",
       "      <td>152</td>\n",
       "      <td>mpfi</td>\n",
       "      <td>2.6800</td>\n",
       "      <td>3.4700</td>\n",
       "      <td>9.0000</td>\n",
       "      <td>154</td>\n",
       "      <td>5000</td>\n",
       "      <td>19</td>\n",
       "      <td>26</td>\n",
       "      <td>16500.0000</td>\n",
       "    </tr>\n",
       "    <tr>\n",
       "      <th>3</th>\n",
       "      <td>4</td>\n",
       "      <td>2</td>\n",
       "      <td>audi 100 ls</td>\n",
       "      <td>gas</td>\n",
       "      <td>std</td>\n",
       "      <td>four</td>\n",
       "      <td>sedan</td>\n",
       "      <td>fwd</td>\n",
       "      <td>front</td>\n",
       "      <td>99.8000</td>\n",
       "      <td>176.6000</td>\n",
       "      <td>66.2000</td>\n",
       "      <td>54.3000</td>\n",
       "      <td>2337</td>\n",
       "      <td>ohc</td>\n",
       "      <td>four</td>\n",
       "      <td>109</td>\n",
       "      <td>mpfi</td>\n",
       "      <td>3.1900</td>\n",
       "      <td>3.4000</td>\n",
       "      <td>10.0000</td>\n",
       "      <td>102</td>\n",
       "      <td>5500</td>\n",
       "      <td>24</td>\n",
       "      <td>30</td>\n",
       "      <td>13950.0000</td>\n",
       "    </tr>\n",
       "    <tr>\n",
       "      <th>4</th>\n",
       "      <td>5</td>\n",
       "      <td>2</td>\n",
       "      <td>audi 100ls</td>\n",
       "      <td>gas</td>\n",
       "      <td>std</td>\n",
       "      <td>four</td>\n",
       "      <td>sedan</td>\n",
       "      <td>4wd</td>\n",
       "      <td>front</td>\n",
       "      <td>99.4000</td>\n",
       "      <td>176.6000</td>\n",
       "      <td>66.4000</td>\n",
       "      <td>54.3000</td>\n",
       "      <td>2824</td>\n",
       "      <td>ohc</td>\n",
       "      <td>five</td>\n",
       "      <td>136</td>\n",
       "      <td>mpfi</td>\n",
       "      <td>3.1900</td>\n",
       "      <td>3.4000</td>\n",
       "      <td>8.0000</td>\n",
       "      <td>115</td>\n",
       "      <td>5500</td>\n",
       "      <td>18</td>\n",
       "      <td>22</td>\n",
       "      <td>17450.0000</td>\n",
       "    </tr>\n",
       "  </tbody>\n",
       "</table>\n",
       "</div>"
      ],
      "text/plain": [
       "   car_ID  symboling                   CarName fueltype aspiration doornumber  \\\n",
       "0  1       3          alfa-romero giulia        gas      std        two         \n",
       "1  2       3          alfa-romero stelvio       gas      std        two         \n",
       "2  3       1          alfa-romero Quadrifoglio  gas      std        two         \n",
       "3  4       2          audi 100 ls               gas      std        four        \n",
       "4  5       2          audi 100ls                gas      std        four        \n",
       "\n",
       "       carbody drivewheel enginelocation  wheelbase  carlength  carwidth  \\\n",
       "0  convertible  rwd        front         88.6000    168.8000   64.1000     \n",
       "1  convertible  rwd        front         88.6000    168.8000   64.1000     \n",
       "2  hatchback    rwd        front         94.5000    171.2000   65.5000     \n",
       "3  sedan        fwd        front         99.8000    176.6000   66.2000     \n",
       "4  sedan        4wd        front         99.4000    176.6000   66.4000     \n",
       "\n",
       "   carheight  curbweight enginetype cylindernumber  enginesize fuelsystem  \\\n",
       "0 48.8000     2548        dohc       four           130         mpfi        \n",
       "1 48.8000     2548        dohc       four           130         mpfi        \n",
       "2 52.4000     2823        ohcv       six            152         mpfi        \n",
       "3 54.3000     2337        ohc        four           109         mpfi        \n",
       "4 54.3000     2824        ohc        five           136         mpfi        \n",
       "\n",
       "   boreratio  stroke  compressionratio  horsepower  peakrpm  citympg  \\\n",
       "0 3.4700     2.6800  9.0000             111         5000     21        \n",
       "1 3.4700     2.6800  9.0000             111         5000     21        \n",
       "2 2.6800     3.4700  9.0000             154         5000     19        \n",
       "3 3.1900     3.4000  10.0000            102         5500     24        \n",
       "4 3.1900     3.4000  8.0000             115         5500     18        \n",
       "\n",
       "   highwaympg      price  \n",
       "0  27         13495.0000  \n",
       "1  27         16500.0000  \n",
       "2  26         16500.0000  \n",
       "3  30         13950.0000  \n",
       "4  22         17450.0000  "
      ]
     },
     "execution_count": 3,
     "metadata": {},
     "output_type": "execute_result"
    }
   ],
   "source": [
    "# Reading the automobile consulting company file on which analysis needs to be done\n",
    "\n",
    "dataset = pd.read_csv('CarPrice_Assignment.csv')\n",
    "\n",
    "dataset.head()"
   ]
  },
  {
   "cell_type": "code",
   "execution_count": 4,
   "metadata": {},
   "outputs": [
    {
     "data": {
      "text/html": [
       "<div>\n",
       "<style scoped>\n",
       "    .dataframe tbody tr th:only-of-type {\n",
       "        vertical-align: middle;\n",
       "    }\n",
       "\n",
       "    .dataframe tbody tr th {\n",
       "        vertical-align: top;\n",
       "    }\n",
       "\n",
       "    .dataframe thead th {\n",
       "        text-align: right;\n",
       "    }\n",
       "</style>\n",
       "<table border=\"1\" class=\"dataframe\">\n",
       "  <thead>\n",
       "    <tr style=\"text-align: right;\">\n",
       "      <th></th>\n",
       "      <th>car_ID</th>\n",
       "      <th>symboling</th>\n",
       "      <th>CarName</th>\n",
       "      <th>fueltype</th>\n",
       "      <th>aspiration</th>\n",
       "      <th>doornumber</th>\n",
       "      <th>carbody</th>\n",
       "      <th>drivewheel</th>\n",
       "      <th>enginelocation</th>\n",
       "      <th>wheelbase</th>\n",
       "      <th>carlength</th>\n",
       "      <th>carwidth</th>\n",
       "      <th>carheight</th>\n",
       "      <th>curbweight</th>\n",
       "      <th>enginetype</th>\n",
       "      <th>cylindernumber</th>\n",
       "      <th>enginesize</th>\n",
       "      <th>fuelsystem</th>\n",
       "      <th>boreratio</th>\n",
       "      <th>stroke</th>\n",
       "      <th>compressionratio</th>\n",
       "      <th>horsepower</th>\n",
       "      <th>peakrpm</th>\n",
       "      <th>citympg</th>\n",
       "      <th>highwaympg</th>\n",
       "      <th>price</th>\n",
       "    </tr>\n",
       "  </thead>\n",
       "  <tbody>\n",
       "    <tr>\n",
       "      <th>0</th>\n",
       "      <td>1</td>\n",
       "      <td>3</td>\n",
       "      <td>alfa-romero giulia</td>\n",
       "      <td>gas</td>\n",
       "      <td>std</td>\n",
       "      <td>two</td>\n",
       "      <td>convertible</td>\n",
       "      <td>rwd</td>\n",
       "      <td>front</td>\n",
       "      <td>88.6000</td>\n",
       "      <td>168.8000</td>\n",
       "      <td>64.1000</td>\n",
       "      <td>48.8000</td>\n",
       "      <td>2548</td>\n",
       "      <td>dohc</td>\n",
       "      <td>four</td>\n",
       "      <td>130</td>\n",
       "      <td>mpfi</td>\n",
       "      <td>3.4700</td>\n",
       "      <td>2.6800</td>\n",
       "      <td>9.0000</td>\n",
       "      <td>111</td>\n",
       "      <td>5000</td>\n",
       "      <td>21</td>\n",
       "      <td>27</td>\n",
       "      <td>13495.0000</td>\n",
       "    </tr>\n",
       "    <tr>\n",
       "      <th>1</th>\n",
       "      <td>2</td>\n",
       "      <td>3</td>\n",
       "      <td>alfa-romero stelvio</td>\n",
       "      <td>gas</td>\n",
       "      <td>std</td>\n",
       "      <td>two</td>\n",
       "      <td>convertible</td>\n",
       "      <td>rwd</td>\n",
       "      <td>front</td>\n",
       "      <td>88.6000</td>\n",
       "      <td>168.8000</td>\n",
       "      <td>64.1000</td>\n",
       "      <td>48.8000</td>\n",
       "      <td>2548</td>\n",
       "      <td>dohc</td>\n",
       "      <td>four</td>\n",
       "      <td>130</td>\n",
       "      <td>mpfi</td>\n",
       "      <td>3.4700</td>\n",
       "      <td>2.6800</td>\n",
       "      <td>9.0000</td>\n",
       "      <td>111</td>\n",
       "      <td>5000</td>\n",
       "      <td>21</td>\n",
       "      <td>27</td>\n",
       "      <td>16500.0000</td>\n",
       "    </tr>\n",
       "    <tr>\n",
       "      <th>2</th>\n",
       "      <td>3</td>\n",
       "      <td>1</td>\n",
       "      <td>alfa-romero Quadrifoglio</td>\n",
       "      <td>gas</td>\n",
       "      <td>std</td>\n",
       "      <td>two</td>\n",
       "      <td>hatchback</td>\n",
       "      <td>rwd</td>\n",
       "      <td>front</td>\n",
       "      <td>94.5000</td>\n",
       "      <td>171.2000</td>\n",
       "      <td>65.5000</td>\n",
       "      <td>52.4000</td>\n",
       "      <td>2823</td>\n",
       "      <td>ohcv</td>\n",
       "      <td>six</td>\n",
       "      <td>152</td>\n",
       "      <td>mpfi</td>\n",
       "      <td>2.6800</td>\n",
       "      <td>3.4700</td>\n",
       "      <td>9.0000</td>\n",
       "      <td>154</td>\n",
       "      <td>5000</td>\n",
       "      <td>19</td>\n",
       "      <td>26</td>\n",
       "      <td>16500.0000</td>\n",
       "    </tr>\n",
       "    <tr>\n",
       "      <th>3</th>\n",
       "      <td>4</td>\n",
       "      <td>2</td>\n",
       "      <td>audi 100 ls</td>\n",
       "      <td>gas</td>\n",
       "      <td>std</td>\n",
       "      <td>four</td>\n",
       "      <td>sedan</td>\n",
       "      <td>fwd</td>\n",
       "      <td>front</td>\n",
       "      <td>99.8000</td>\n",
       "      <td>176.6000</td>\n",
       "      <td>66.2000</td>\n",
       "      <td>54.3000</td>\n",
       "      <td>2337</td>\n",
       "      <td>ohc</td>\n",
       "      <td>four</td>\n",
       "      <td>109</td>\n",
       "      <td>mpfi</td>\n",
       "      <td>3.1900</td>\n",
       "      <td>3.4000</td>\n",
       "      <td>10.0000</td>\n",
       "      <td>102</td>\n",
       "      <td>5500</td>\n",
       "      <td>24</td>\n",
       "      <td>30</td>\n",
       "      <td>13950.0000</td>\n",
       "    </tr>\n",
       "    <tr>\n",
       "      <th>4</th>\n",
       "      <td>5</td>\n",
       "      <td>2</td>\n",
       "      <td>audi 100ls</td>\n",
       "      <td>gas</td>\n",
       "      <td>std</td>\n",
       "      <td>four</td>\n",
       "      <td>sedan</td>\n",
       "      <td>4wd</td>\n",
       "      <td>front</td>\n",
       "      <td>99.4000</td>\n",
       "      <td>176.6000</td>\n",
       "      <td>66.4000</td>\n",
       "      <td>54.3000</td>\n",
       "      <td>2824</td>\n",
       "      <td>ohc</td>\n",
       "      <td>five</td>\n",
       "      <td>136</td>\n",
       "      <td>mpfi</td>\n",
       "      <td>3.1900</td>\n",
       "      <td>3.4000</td>\n",
       "      <td>8.0000</td>\n",
       "      <td>115</td>\n",
       "      <td>5500</td>\n",
       "      <td>18</td>\n",
       "      <td>22</td>\n",
       "      <td>17450.0000</td>\n",
       "    </tr>\n",
       "    <tr>\n",
       "      <th>...</th>\n",
       "      <td>...</td>\n",
       "      <td>...</td>\n",
       "      <td>...</td>\n",
       "      <td>...</td>\n",
       "      <td>...</td>\n",
       "      <td>...</td>\n",
       "      <td>...</td>\n",
       "      <td>...</td>\n",
       "      <td>...</td>\n",
       "      <td>...</td>\n",
       "      <td>...</td>\n",
       "      <td>...</td>\n",
       "      <td>...</td>\n",
       "      <td>...</td>\n",
       "      <td>...</td>\n",
       "      <td>...</td>\n",
       "      <td>...</td>\n",
       "      <td>...</td>\n",
       "      <td>...</td>\n",
       "      <td>...</td>\n",
       "      <td>...</td>\n",
       "      <td>...</td>\n",
       "      <td>...</td>\n",
       "      <td>...</td>\n",
       "      <td>...</td>\n",
       "      <td>...</td>\n",
       "    </tr>\n",
       "    <tr>\n",
       "      <th>200</th>\n",
       "      <td>201</td>\n",
       "      <td>-1</td>\n",
       "      <td>volvo 145e (sw)</td>\n",
       "      <td>gas</td>\n",
       "      <td>std</td>\n",
       "      <td>four</td>\n",
       "      <td>sedan</td>\n",
       "      <td>rwd</td>\n",
       "      <td>front</td>\n",
       "      <td>109.1000</td>\n",
       "      <td>188.8000</td>\n",
       "      <td>68.9000</td>\n",
       "      <td>55.5000</td>\n",
       "      <td>2952</td>\n",
       "      <td>ohc</td>\n",
       "      <td>four</td>\n",
       "      <td>141</td>\n",
       "      <td>mpfi</td>\n",
       "      <td>3.7800</td>\n",
       "      <td>3.1500</td>\n",
       "      <td>9.5000</td>\n",
       "      <td>114</td>\n",
       "      <td>5400</td>\n",
       "      <td>23</td>\n",
       "      <td>28</td>\n",
       "      <td>16845.0000</td>\n",
       "    </tr>\n",
       "    <tr>\n",
       "      <th>201</th>\n",
       "      <td>202</td>\n",
       "      <td>-1</td>\n",
       "      <td>volvo 144ea</td>\n",
       "      <td>gas</td>\n",
       "      <td>turbo</td>\n",
       "      <td>four</td>\n",
       "      <td>sedan</td>\n",
       "      <td>rwd</td>\n",
       "      <td>front</td>\n",
       "      <td>109.1000</td>\n",
       "      <td>188.8000</td>\n",
       "      <td>68.8000</td>\n",
       "      <td>55.5000</td>\n",
       "      <td>3049</td>\n",
       "      <td>ohc</td>\n",
       "      <td>four</td>\n",
       "      <td>141</td>\n",
       "      <td>mpfi</td>\n",
       "      <td>3.7800</td>\n",
       "      <td>3.1500</td>\n",
       "      <td>8.7000</td>\n",
       "      <td>160</td>\n",
       "      <td>5300</td>\n",
       "      <td>19</td>\n",
       "      <td>25</td>\n",
       "      <td>19045.0000</td>\n",
       "    </tr>\n",
       "    <tr>\n",
       "      <th>202</th>\n",
       "      <td>203</td>\n",
       "      <td>-1</td>\n",
       "      <td>volvo 244dl</td>\n",
       "      <td>gas</td>\n",
       "      <td>std</td>\n",
       "      <td>four</td>\n",
       "      <td>sedan</td>\n",
       "      <td>rwd</td>\n",
       "      <td>front</td>\n",
       "      <td>109.1000</td>\n",
       "      <td>188.8000</td>\n",
       "      <td>68.9000</td>\n",
       "      <td>55.5000</td>\n",
       "      <td>3012</td>\n",
       "      <td>ohcv</td>\n",
       "      <td>six</td>\n",
       "      <td>173</td>\n",
       "      <td>mpfi</td>\n",
       "      <td>3.5800</td>\n",
       "      <td>2.8700</td>\n",
       "      <td>8.8000</td>\n",
       "      <td>134</td>\n",
       "      <td>5500</td>\n",
       "      <td>18</td>\n",
       "      <td>23</td>\n",
       "      <td>21485.0000</td>\n",
       "    </tr>\n",
       "    <tr>\n",
       "      <th>203</th>\n",
       "      <td>204</td>\n",
       "      <td>-1</td>\n",
       "      <td>volvo 246</td>\n",
       "      <td>diesel</td>\n",
       "      <td>turbo</td>\n",
       "      <td>four</td>\n",
       "      <td>sedan</td>\n",
       "      <td>rwd</td>\n",
       "      <td>front</td>\n",
       "      <td>109.1000</td>\n",
       "      <td>188.8000</td>\n",
       "      <td>68.9000</td>\n",
       "      <td>55.5000</td>\n",
       "      <td>3217</td>\n",
       "      <td>ohc</td>\n",
       "      <td>six</td>\n",
       "      <td>145</td>\n",
       "      <td>idi</td>\n",
       "      <td>3.0100</td>\n",
       "      <td>3.4000</td>\n",
       "      <td>23.0000</td>\n",
       "      <td>106</td>\n",
       "      <td>4800</td>\n",
       "      <td>26</td>\n",
       "      <td>27</td>\n",
       "      <td>22470.0000</td>\n",
       "    </tr>\n",
       "    <tr>\n",
       "      <th>204</th>\n",
       "      <td>205</td>\n",
       "      <td>-1</td>\n",
       "      <td>volvo 264gl</td>\n",
       "      <td>gas</td>\n",
       "      <td>turbo</td>\n",
       "      <td>four</td>\n",
       "      <td>sedan</td>\n",
       "      <td>rwd</td>\n",
       "      <td>front</td>\n",
       "      <td>109.1000</td>\n",
       "      <td>188.8000</td>\n",
       "      <td>68.9000</td>\n",
       "      <td>55.5000</td>\n",
       "      <td>3062</td>\n",
       "      <td>ohc</td>\n",
       "      <td>four</td>\n",
       "      <td>141</td>\n",
       "      <td>mpfi</td>\n",
       "      <td>3.7800</td>\n",
       "      <td>3.1500</td>\n",
       "      <td>9.5000</td>\n",
       "      <td>114</td>\n",
       "      <td>5400</td>\n",
       "      <td>19</td>\n",
       "      <td>25</td>\n",
       "      <td>22625.0000</td>\n",
       "    </tr>\n",
       "  </tbody>\n",
       "</table>\n",
       "<p>205 rows × 26 columns</p>\n",
       "</div>"
      ],
      "text/plain": [
       "     car_ID  symboling                   CarName fueltype aspiration  \\\n",
       "0    1       3          alfa-romero giulia        gas      std         \n",
       "1    2       3          alfa-romero stelvio       gas      std         \n",
       "2    3       1          alfa-romero Quadrifoglio  gas      std         \n",
       "3    4       2          audi 100 ls               gas      std         \n",
       "4    5       2          audi 100ls                gas      std         \n",
       "..  ..      ..                 ...                ...      ...         \n",
       "200  201    -1          volvo 145e (sw)           gas      std         \n",
       "201  202    -1          volvo 144ea               gas      turbo       \n",
       "202  203    -1          volvo 244dl               gas      std         \n",
       "203  204    -1          volvo 246                 diesel   turbo       \n",
       "204  205    -1          volvo 264gl               gas      turbo       \n",
       "\n",
       "    doornumber      carbody drivewheel enginelocation  wheelbase  carlength  \\\n",
       "0    two        convertible  rwd        front         88.6000    168.8000     \n",
       "1    two        convertible  rwd        front         88.6000    168.8000     \n",
       "2    two        hatchback    rwd        front         94.5000    171.2000     \n",
       "3    four       sedan        fwd        front         99.8000    176.6000     \n",
       "4    four       sedan        4wd        front         99.4000    176.6000     \n",
       "..    ...         ...        ...          ...             ...         ...     \n",
       "200  four       sedan        rwd        front         109.1000   188.8000     \n",
       "201  four       sedan        rwd        front         109.1000   188.8000     \n",
       "202  four       sedan        rwd        front         109.1000   188.8000     \n",
       "203  four       sedan        rwd        front         109.1000   188.8000     \n",
       "204  four       sedan        rwd        front         109.1000   188.8000     \n",
       "\n",
       "     carwidth  carheight  curbweight enginetype cylindernumber  enginesize  \\\n",
       "0   64.1000   48.8000     2548        dohc       four           130          \n",
       "1   64.1000   48.8000     2548        dohc       four           130          \n",
       "2   65.5000   52.4000     2823        ohcv       six            152          \n",
       "3   66.2000   54.3000     2337        ohc        four           109          \n",
       "4   66.4000   54.3000     2824        ohc        five           136          \n",
       "..      ...       ...      ...        ...         ...           ...          \n",
       "200 68.9000   55.5000     2952        ohc        four           141          \n",
       "201 68.8000   55.5000     3049        ohc        four           141          \n",
       "202 68.9000   55.5000     3012        ohcv       six            173          \n",
       "203 68.9000   55.5000     3217        ohc        six            145          \n",
       "204 68.9000   55.5000     3062        ohc        four           141          \n",
       "\n",
       "    fuelsystem  boreratio  stroke  compressionratio  horsepower  peakrpm  \\\n",
       "0    mpfi      3.4700     2.6800  9.0000             111         5000      \n",
       "1    mpfi      3.4700     2.6800  9.0000             111         5000      \n",
       "2    mpfi      2.6800     3.4700  9.0000             154         5000      \n",
       "3    mpfi      3.1900     3.4000  10.0000            102         5500      \n",
       "4    mpfi      3.1900     3.4000  8.0000             115         5500      \n",
       "..    ...         ...        ...     ...             ...          ...      \n",
       "200  mpfi      3.7800     3.1500  9.5000             114         5400      \n",
       "201  mpfi      3.7800     3.1500  8.7000             160         5300      \n",
       "202  mpfi      3.5800     2.8700  8.8000             134         5500      \n",
       "203  idi       3.0100     3.4000  23.0000            106         4800      \n",
       "204  mpfi      3.7800     3.1500  9.5000             114         5400      \n",
       "\n",
       "     citympg  highwaympg      price  \n",
       "0    21       27         13495.0000  \n",
       "1    21       27         16500.0000  \n",
       "2    19       26         16500.0000  \n",
       "3    24       30         13950.0000  \n",
       "4    18       22         17450.0000  \n",
       "..   ..       ..                ...  \n",
       "200  23       28         16845.0000  \n",
       "201  19       25         19045.0000  \n",
       "202  18       23         21485.0000  \n",
       "203  26       27         22470.0000  \n",
       "204  19       25         22625.0000  \n",
       "\n",
       "[205 rows x 26 columns]"
      ]
     },
     "execution_count": 4,
     "metadata": {},
     "output_type": "execute_result"
    }
   ],
   "source": [
    "dataset"
   ]
  },
  {
   "cell_type": "code",
   "execution_count": 5,
   "metadata": {},
   "outputs": [
    {
     "data": {
      "text/html": [
       "<div>\n",
       "<style scoped>\n",
       "    .dataframe tbody tr th:only-of-type {\n",
       "        vertical-align: middle;\n",
       "    }\n",
       "\n",
       "    .dataframe tbody tr th {\n",
       "        vertical-align: top;\n",
       "    }\n",
       "\n",
       "    .dataframe thead th {\n",
       "        text-align: right;\n",
       "    }\n",
       "</style>\n",
       "<table border=\"1\" class=\"dataframe\">\n",
       "  <thead>\n",
       "    <tr style=\"text-align: right;\">\n",
       "      <th></th>\n",
       "      <th>Unnamed: 0</th>\n",
       "      <th>Unnamed: 1</th>\n",
       "      <th>Unnamed: 2</th>\n",
       "      <th>Unnamed: 3</th>\n",
       "      <th>Unnamed: 4</th>\n",
       "      <th>Unnamed: 5</th>\n",
       "      <th>Unnamed: 6</th>\n",
       "      <th>Unnamed: 7</th>\n",
       "      <th>Unnamed: 8</th>\n",
       "      <th>Unnamed: 9</th>\n",
       "      <th>Unnamed: 10</th>\n",
       "      <th>Unnamed: 11</th>\n",
       "      <th>Unnamed: 12</th>\n",
       "      <th>Unnamed: 13</th>\n",
       "    </tr>\n",
       "  </thead>\n",
       "  <tbody>\n",
       "    <tr>\n",
       "      <th>0</th>\n",
       "      <td>NaN</td>\n",
       "      <td>NaN</td>\n",
       "      <td>NaN</td>\n",
       "      <td>NaN</td>\n",
       "      <td>NaN</td>\n",
       "      <td>NaN</td>\n",
       "      <td>NaN</td>\n",
       "      <td>NaN</td>\n",
       "      <td>NaN</td>\n",
       "      <td>NaN</td>\n",
       "      <td>NaN</td>\n",
       "      <td>NaN</td>\n",
       "      <td>NaN</td>\n",
       "      <td>NaN</td>\n",
       "    </tr>\n",
       "    <tr>\n",
       "      <th>1</th>\n",
       "      <td>NaN</td>\n",
       "      <td>NaN</td>\n",
       "      <td>NaN</td>\n",
       "      <td>NaN</td>\n",
       "      <td>NaN</td>\n",
       "      <td>NaN</td>\n",
       "      <td>DATA DICTONARY</td>\n",
       "      <td>NaN</td>\n",
       "      <td>NaN</td>\n",
       "      <td>NaN</td>\n",
       "      <td>NaN</td>\n",
       "      <td>NaN</td>\n",
       "      <td>NaN</td>\n",
       "      <td>NaN</td>\n",
       "    </tr>\n",
       "  </tbody>\n",
       "</table>\n",
       "</div>"
      ],
      "text/plain": [
       "   Unnamed: 0  Unnamed: 1  Unnamed: 2  Unnamed: 3  Unnamed: 4  Unnamed: 5  \\\n",
       "0 NaN         NaN         NaN         NaN         NaN         NaN           \n",
       "1 NaN         NaN         NaN         NaN         NaN         NaN           \n",
       "\n",
       "       Unnamed: 6 Unnamed: 7  Unnamed: 8  Unnamed: 9  Unnamed: 10 Unnamed: 11  \\\n",
       "0  NaN             NaN       NaN         NaN         NaN           NaN          \n",
       "1  DATA DICTONARY  NaN       NaN         NaN         NaN           NaN          \n",
       "\n",
       "   Unnamed: 12 Unnamed: 13  \n",
       "0 NaN           NaN         \n",
       "1 NaN           NaN         "
      ]
     },
     "execution_count": 5,
     "metadata": {},
     "output_type": "execute_result"
    }
   ],
   "source": [
    "# Reading the data dictionary file\n",
    "\n",
    "df_stru = pd.read_excel('Data Dictionary - carprices.xlsx')\n",
    "df_stru.head(2)"
   ]
  },
  {
   "cell_type": "markdown",
   "metadata": {},
   "source": [
    "## Understanding the dataframe"
   ]
  },
  {
   "cell_type": "code",
   "execution_count": 6,
   "metadata": {},
   "outputs": [
    {
     "data": {
      "text/plain": [
       "(205, 26)"
      ]
     },
     "execution_count": 6,
     "metadata": {},
     "output_type": "execute_result"
    }
   ],
   "source": [
    "# shape of the data\n",
    "dataset.shape"
   ]
  },
  {
   "cell_type": "code",
   "execution_count": 7,
   "metadata": {},
   "outputs": [
    {
     "name": "stdout",
     "output_type": "stream",
     "text": [
      "<class 'pandas.core.frame.DataFrame'>\n",
      "RangeIndex: 205 entries, 0 to 204\n",
      "Data columns (total 26 columns):\n",
      " #   Column            Non-Null Count  Dtype  \n",
      "---  ------            --------------  -----  \n",
      " 0   car_ID            205 non-null    int64  \n",
      " 1   symboling         205 non-null    int64  \n",
      " 2   CarName           205 non-null    object \n",
      " 3   fueltype          205 non-null    object \n",
      " 4   aspiration        205 non-null    object \n",
      " 5   doornumber        205 non-null    object \n",
      " 6   carbody           205 non-null    object \n",
      " 7   drivewheel        205 non-null    object \n",
      " 8   enginelocation    205 non-null    object \n",
      " 9   wheelbase         205 non-null    float64\n",
      " 10  carlength         205 non-null    float64\n",
      " 11  carwidth          205 non-null    float64\n",
      " 12  carheight         205 non-null    float64\n",
      " 13  curbweight        205 non-null    int64  \n",
      " 14  enginetype        205 non-null    object \n",
      " 15  cylindernumber    205 non-null    object \n",
      " 16  enginesize        205 non-null    int64  \n",
      " 17  fuelsystem        205 non-null    object \n",
      " 18  boreratio         205 non-null    float64\n",
      " 19  stroke            205 non-null    float64\n",
      " 20  compressionratio  205 non-null    float64\n",
      " 21  horsepower        205 non-null    int64  \n",
      " 22  peakrpm           205 non-null    int64  \n",
      " 23  citympg           205 non-null    int64  \n",
      " 24  highwaympg        205 non-null    int64  \n",
      " 25  price             205 non-null    float64\n",
      "dtypes: float64(8), int64(8), object(10)\n",
      "memory usage: 41.8+ KB\n"
     ]
    }
   ],
   "source": [
    "# information of the data\n",
    "dataset.info()"
   ]
  },
  {
   "cell_type": "code",
   "execution_count": 8,
   "metadata": {},
   "outputs": [
    {
     "data": {
      "text/html": [
       "<div>\n",
       "<style scoped>\n",
       "    .dataframe tbody tr th:only-of-type {\n",
       "        vertical-align: middle;\n",
       "    }\n",
       "\n",
       "    .dataframe tbody tr th {\n",
       "        vertical-align: top;\n",
       "    }\n",
       "\n",
       "    .dataframe thead th {\n",
       "        text-align: right;\n",
       "    }\n",
       "</style>\n",
       "<table border=\"1\" class=\"dataframe\">\n",
       "  <thead>\n",
       "    <tr style=\"text-align: right;\">\n",
       "      <th></th>\n",
       "      <th>car_ID</th>\n",
       "      <th>symboling</th>\n",
       "      <th>wheelbase</th>\n",
       "      <th>carlength</th>\n",
       "      <th>carwidth</th>\n",
       "      <th>carheight</th>\n",
       "      <th>curbweight</th>\n",
       "      <th>enginesize</th>\n",
       "      <th>boreratio</th>\n",
       "      <th>stroke</th>\n",
       "      <th>compressionratio</th>\n",
       "      <th>horsepower</th>\n",
       "      <th>peakrpm</th>\n",
       "      <th>citympg</th>\n",
       "      <th>highwaympg</th>\n",
       "      <th>price</th>\n",
       "    </tr>\n",
       "  </thead>\n",
       "  <tbody>\n",
       "    <tr>\n",
       "      <th>count</th>\n",
       "      <td>205.0000</td>\n",
       "      <td>205.0000</td>\n",
       "      <td>205.0000</td>\n",
       "      <td>205.0000</td>\n",
       "      <td>205.0000</td>\n",
       "      <td>205.0000</td>\n",
       "      <td>205.0000</td>\n",
       "      <td>205.0000</td>\n",
       "      <td>205.0000</td>\n",
       "      <td>205.0000</td>\n",
       "      <td>205.0000</td>\n",
       "      <td>205.0000</td>\n",
       "      <td>205.0000</td>\n",
       "      <td>205.0000</td>\n",
       "      <td>205.0000</td>\n",
       "      <td>205.0000</td>\n",
       "    </tr>\n",
       "    <tr>\n",
       "      <th>mean</th>\n",
       "      <td>103.0000</td>\n",
       "      <td>0.8341</td>\n",
       "      <td>98.7566</td>\n",
       "      <td>174.0493</td>\n",
       "      <td>65.9078</td>\n",
       "      <td>53.7249</td>\n",
       "      <td>2555.5659</td>\n",
       "      <td>126.9073</td>\n",
       "      <td>3.3298</td>\n",
       "      <td>3.2554</td>\n",
       "      <td>10.1425</td>\n",
       "      <td>104.1171</td>\n",
       "      <td>5125.1220</td>\n",
       "      <td>25.2195</td>\n",
       "      <td>30.7512</td>\n",
       "      <td>13276.7106</td>\n",
       "    </tr>\n",
       "    <tr>\n",
       "      <th>std</th>\n",
       "      <td>59.3226</td>\n",
       "      <td>1.2453</td>\n",
       "      <td>6.0218</td>\n",
       "      <td>12.3373</td>\n",
       "      <td>2.1452</td>\n",
       "      <td>2.4435</td>\n",
       "      <td>520.6802</td>\n",
       "      <td>41.6427</td>\n",
       "      <td>0.2708</td>\n",
       "      <td>0.3136</td>\n",
       "      <td>3.9720</td>\n",
       "      <td>39.5442</td>\n",
       "      <td>476.9856</td>\n",
       "      <td>6.5421</td>\n",
       "      <td>6.8864</td>\n",
       "      <td>7988.8523</td>\n",
       "    </tr>\n",
       "    <tr>\n",
       "      <th>min</th>\n",
       "      <td>1.0000</td>\n",
       "      <td>-2.0000</td>\n",
       "      <td>86.6000</td>\n",
       "      <td>141.1000</td>\n",
       "      <td>60.3000</td>\n",
       "      <td>47.8000</td>\n",
       "      <td>1488.0000</td>\n",
       "      <td>61.0000</td>\n",
       "      <td>2.5400</td>\n",
       "      <td>2.0700</td>\n",
       "      <td>7.0000</td>\n",
       "      <td>48.0000</td>\n",
       "      <td>4150.0000</td>\n",
       "      <td>13.0000</td>\n",
       "      <td>16.0000</td>\n",
       "      <td>5118.0000</td>\n",
       "    </tr>\n",
       "    <tr>\n",
       "      <th>25%</th>\n",
       "      <td>52.0000</td>\n",
       "      <td>0.0000</td>\n",
       "      <td>94.5000</td>\n",
       "      <td>166.3000</td>\n",
       "      <td>64.1000</td>\n",
       "      <td>52.0000</td>\n",
       "      <td>2145.0000</td>\n",
       "      <td>97.0000</td>\n",
       "      <td>3.1500</td>\n",
       "      <td>3.1100</td>\n",
       "      <td>8.6000</td>\n",
       "      <td>70.0000</td>\n",
       "      <td>4800.0000</td>\n",
       "      <td>19.0000</td>\n",
       "      <td>25.0000</td>\n",
       "      <td>7788.0000</td>\n",
       "    </tr>\n",
       "    <tr>\n",
       "      <th>50%</th>\n",
       "      <td>103.0000</td>\n",
       "      <td>1.0000</td>\n",
       "      <td>97.0000</td>\n",
       "      <td>173.2000</td>\n",
       "      <td>65.5000</td>\n",
       "      <td>54.1000</td>\n",
       "      <td>2414.0000</td>\n",
       "      <td>120.0000</td>\n",
       "      <td>3.3100</td>\n",
       "      <td>3.2900</td>\n",
       "      <td>9.0000</td>\n",
       "      <td>95.0000</td>\n",
       "      <td>5200.0000</td>\n",
       "      <td>24.0000</td>\n",
       "      <td>30.0000</td>\n",
       "      <td>10295.0000</td>\n",
       "    </tr>\n",
       "    <tr>\n",
       "      <th>75%</th>\n",
       "      <td>154.0000</td>\n",
       "      <td>2.0000</td>\n",
       "      <td>102.4000</td>\n",
       "      <td>183.1000</td>\n",
       "      <td>66.9000</td>\n",
       "      <td>55.5000</td>\n",
       "      <td>2935.0000</td>\n",
       "      <td>141.0000</td>\n",
       "      <td>3.5800</td>\n",
       "      <td>3.4100</td>\n",
       "      <td>9.4000</td>\n",
       "      <td>116.0000</td>\n",
       "      <td>5500.0000</td>\n",
       "      <td>30.0000</td>\n",
       "      <td>34.0000</td>\n",
       "      <td>16503.0000</td>\n",
       "    </tr>\n",
       "    <tr>\n",
       "      <th>max</th>\n",
       "      <td>205.0000</td>\n",
       "      <td>3.0000</td>\n",
       "      <td>120.9000</td>\n",
       "      <td>208.1000</td>\n",
       "      <td>72.3000</td>\n",
       "      <td>59.8000</td>\n",
       "      <td>4066.0000</td>\n",
       "      <td>326.0000</td>\n",
       "      <td>3.9400</td>\n",
       "      <td>4.1700</td>\n",
       "      <td>23.0000</td>\n",
       "      <td>288.0000</td>\n",
       "      <td>6600.0000</td>\n",
       "      <td>49.0000</td>\n",
       "      <td>54.0000</td>\n",
       "      <td>45400.0000</td>\n",
       "    </tr>\n",
       "  </tbody>\n",
       "</table>\n",
       "</div>"
      ],
      "text/plain": [
       "        car_ID  symboling  wheelbase  carlength  carwidth  carheight  \\\n",
       "count 205.0000 205.0000   205.0000   205.0000   205.0000  205.0000     \n",
       "mean  103.0000 0.8341     98.7566    174.0493   65.9078   53.7249      \n",
       "std   59.3226  1.2453     6.0218     12.3373    2.1452    2.4435       \n",
       "min   1.0000   -2.0000    86.6000    141.1000   60.3000   47.8000      \n",
       "25%   52.0000  0.0000     94.5000    166.3000   64.1000   52.0000      \n",
       "50%   103.0000 1.0000     97.0000    173.2000   65.5000   54.1000      \n",
       "75%   154.0000 2.0000     102.4000   183.1000   66.9000   55.5000      \n",
       "max   205.0000 3.0000     120.9000   208.1000   72.3000   59.8000      \n",
       "\n",
       "       curbweight  enginesize  boreratio   stroke  compressionratio  \\\n",
       "count 205.0000    205.0000    205.0000   205.0000 205.0000            \n",
       "mean  2555.5659   126.9073    3.3298     3.2554   10.1425             \n",
       "std   520.6802    41.6427     0.2708     0.3136   3.9720              \n",
       "min   1488.0000   61.0000     2.5400     2.0700   7.0000              \n",
       "25%   2145.0000   97.0000     3.1500     3.1100   8.6000              \n",
       "50%   2414.0000   120.0000    3.3100     3.2900   9.0000              \n",
       "75%   2935.0000   141.0000    3.5800     3.4100   9.4000              \n",
       "max   4066.0000   326.0000    3.9400     4.1700   23.0000             \n",
       "\n",
       "       horsepower   peakrpm  citympg  highwaympg      price  \n",
       "count 205.0000    205.0000  205.0000 205.0000    205.0000    \n",
       "mean  104.1171    5125.1220 25.2195  30.7512     13276.7106  \n",
       "std   39.5442     476.9856  6.5421   6.8864      7988.8523   \n",
       "min   48.0000     4150.0000 13.0000  16.0000     5118.0000   \n",
       "25%   70.0000     4800.0000 19.0000  25.0000     7788.0000   \n",
       "50%   95.0000     5200.0000 24.0000  30.0000     10295.0000  \n",
       "75%   116.0000    5500.0000 30.0000  34.0000     16503.0000  \n",
       "max   288.0000    6600.0000 49.0000  54.0000     45400.0000  "
      ]
     },
     "execution_count": 8,
     "metadata": {},
     "output_type": "execute_result"
    }
   ],
   "source": [
    "# description of the data\n",
    "dataset.describe()"
   ]
  },
  {
   "cell_type": "markdown",
   "metadata": {},
   "source": [
    "# Part 2: Data Cleaning <a id=\"2\"></a> <br>"
   ]
  },
  {
   "cell_type": "markdown",
   "metadata": {},
   "source": [
    "<img src='https://www.gpg-callcenter.com/wp-content/uploads/articol.jpeg' width='450'> "
   ]
  },
  {
   "cell_type": "markdown",
   "metadata": {},
   "source": [
    "The dataset which we use is about price of the cars and its factors. This dataset was released by Jeffrey C. Schlimmer. It is publicly available in the UCI Machine Learning repository, which can be accessed from here : \n",
    "* [Car Price Dataset](https://archive.ics.uci.edu/ml/datasets/Automobile)"
   ]
  },
  {
   "cell_type": "markdown",
   "metadata": {},
   "source": [
    "Before we proceed further, we need to do some basic cleansing activity in order to feed our model the correct data."
   ]
  },
  {
   "cell_type": "code",
   "execution_count": 9,
   "metadata": {},
   "outputs": [],
   "source": [
    "# dropping car_ID based on business knowledge, we don't need the ID information\n",
    "\n",
    "dataset = dataset.drop('car_ID',axis=1)"
   ]
  },
  {
   "cell_type": "code",
   "execution_count": 10,
   "metadata": {},
   "outputs": [
    {
     "data": {
      "text/plain": [
       "symboling    0.0000\n",
       "enginetype   0.0000\n",
       "highwaympg   0.0000\n",
       "citympg      0.0000\n",
       "peakrpm      0.0000\n",
       "dtype: float64"
      ]
     },
     "execution_count": 10,
     "metadata": {},
     "output_type": "execute_result"
    }
   ],
   "source": [
    "# Calculating the Missing Values % contribution in DF\n",
    "\n",
    "df_null = dataset.isna().mean().round(4) * 100\n",
    "\n",
    "df_null.sort_values(ascending=False).head()"
   ]
  },
  {
   "cell_type": "markdown",
   "metadata": {},
   "source": [
    "Looks like there are no missing values for this dataset"
   ]
  },
  {
   "cell_type": "code",
   "execution_count": 11,
   "metadata": {},
   "outputs": [
    {
     "data": {
      "text/plain": [
       "symboling           int64  \n",
       "CarName             object \n",
       "fueltype            object \n",
       "aspiration          object \n",
       "doornumber          object \n",
       "carbody             object \n",
       "drivewheel          object \n",
       "enginelocation      object \n",
       "wheelbase           float64\n",
       "carlength           float64\n",
       "carwidth            float64\n",
       "carheight           float64\n",
       "curbweight          int64  \n",
       "enginetype          object \n",
       "cylindernumber      object \n",
       "enginesize          int64  \n",
       "fuelsystem          object \n",
       "boreratio           float64\n",
       "stroke              float64\n",
       "compressionratio    float64\n",
       "horsepower          int64  \n",
       "peakrpm             int64  \n",
       "citympg             int64  \n",
       "highwaympg          int64  \n",
       "price               float64\n",
       "dtype: object"
      ]
     },
     "execution_count": 11,
     "metadata": {},
     "output_type": "execute_result"
    }
   ],
   "source": [
    "# Checking the Data types of the features\n",
    "dataset.dtypes"
   ]
  },
  {
   "cell_type": "markdown",
   "metadata": {},
   "source": [
    "## Outlier Management"
   ]
  },
  {
   "cell_type": "code",
   "execution_count": 12,
   "metadata": {},
   "outputs": [],
   "source": [
    "# Split The Numeric data into 2 so we can see the distribution clearly\n",
    "data_outlier1 = dataset[['symboling','wheelbase','carlength','carwidth','curbweight','enginesize','citympg']]"
   ]
  },
  {
   "cell_type": "code",
   "execution_count": 13,
   "metadata": {},
   "outputs": [],
   "source": [
    "data_outlier2 = dataset[['boreratio','stroke','compressionratio','horsepower','peakrpm','highwaympg']]"
   ]
  },
  {
   "cell_type": "code",
   "execution_count": 14,
   "metadata": {},
   "outputs": [
    {
     "data": {
      "image/png": "[encoded data removed]",
      "text/plain": [
       "<Figure size 720x432 with 7 Axes>"
      ]
     },
     "metadata": {},
     "output_type": "display_data"
    }
   ],
   "source": [
    "# Show the distribution of the features data part1\n",
    "# adjust the figure size for better readability\n",
    "plt.figure(figsize=(10,6))\n",
    "\n",
    "# plotting\n",
    "features1 = list(data_outlier1)\n",
    "for i in range(0, len(features1)):\n",
    "    plt.subplot(1, len(features1), i+1)\n",
    "    sns.boxplot(y=data_outlier1[features1[i]], color='cyan')\n",
    "    plt.tight_layout()"
   ]
  },
  {
   "cell_type": "code",
   "execution_count": 15,
   "metadata": {},
   "outputs": [
    {
     "data": {
      "image/png": "[encoded data removed]",
      "text/plain": [
       "<Figure size 720x432 with 6 Axes>"
      ]
     },
     "metadata": {},
     "output_type": "display_data"
    }
   ],
   "source": [
    "# Show the distribution of the features data part1\n",
    "# adjust the figure size for better readability\n",
    "plt.figure(figsize=(10,6))\n",
    "\n",
    "# plotting\n",
    "features2 = list(data_outlier2)\n",
    "for i in range(0, len(features2)):\n",
    "    plt.subplot(1, len(features2), i+1)\n",
    "    sns.boxplot(y=data_outlier2[features2[i]], color='cyan')\n",
    "    plt.tight_layout()"
   ]
  },
  {
   "cell_type": "code",
   "execution_count": 16,
   "metadata": {},
   "outputs": [
    {
     "data": {
      "text/plain": [
       "(205, 25)"
      ]
     },
     "execution_count": 16,
     "metadata": {},
     "output_type": "execute_result"
    },
    {
     "data": {
      "image/png": "[encoded data removed]",
      "text/plain": [
       "<Figure size 576x576 with 1 Axes>"
      ]
     },
     "metadata": {},
     "output_type": "display_data"
    }
   ],
   "source": [
    "# Outlier Analysis of target variable with maximum amount of Inconsistency\n",
    "\n",
    "outliers = ['price']\n",
    "plt.rcParams['figure.figsize'] = [8,8]\n",
    "sns.boxplot(data=dataset[outliers], orient=\"v\", palette=\"Set1\" ,whis=1.5,saturation=1, width=0.7,color='green')\n",
    "plt.title(\"Outliers Variable Distribution\", fontsize = 14, fontweight = 'bold')\n",
    "plt.ylabel(\"Price Range\", fontweight = 'bold')\n",
    "plt.xlabel(\"Continuous Variable\", fontweight = 'bold')\n",
    "dataset.shape"
   ]
  },
  {
   "cell_type": "markdown",
   "metadata": {},
   "source": [
    " Insights: \n",
    "- There are quite features that have data outside the boxplot which can be termed as outliers but lets not remove it rather we will use standarization scaling."
   ]
  },
  {
   "cell_type": "markdown",
   "metadata": {},
   "source": [
    "## Creating and Transforming Data"
   ]
  },
  {
   "cell_type": "markdown",
   "metadata": {},
   "source": [
    "If we look quick in `CarName` column there are mispelled of the car name, so we want to to check if there are mispelled from that feature."
   ]
  },
  {
   "cell_type": "markdown",
   "metadata": {},
   "source": [
    "### 2.1 Change The Typo in 'CarName' "
   ]
  },
  {
   "cell_type": "code",
   "execution_count": 17,
   "metadata": {},
   "outputs": [],
   "source": [
    "# Extracting Car Company from the CarName as per direction in Problem \n",
    "\n",
    "dataset['CarName'] = dataset['CarName'].str.split(' ',expand=True)"
   ]
  },
  {
   "cell_type": "code",
   "execution_count": 18,
   "metadata": {},
   "outputs": [
    {
     "data": {
      "text/plain": [
       "array(['alfa-romero', 'audi', 'bmw', 'chevrolet', 'dodge', 'honda',\n",
       "       'isuzu', 'jaguar', 'maxda', 'mazda', 'buick', 'mercury',\n",
       "       'mitsubishi', 'Nissan', 'nissan', 'peugeot', 'plymouth', 'porsche',\n",
       "       'porcshce', 'renault', 'saab', 'subaru', 'toyota', 'toyouta',\n",
       "       'vokswagen', 'volkswagen', 'vw', 'volvo'], dtype=object)"
      ]
     },
     "execution_count": 18,
     "metadata": {},
     "output_type": "execute_result"
    }
   ],
   "source": [
    "# Unique Car company\n",
    "\n",
    "dataset['CarName'].unique()"
   ]
  },
  {
   "cell_type": "markdown",
   "metadata": {},
   "source": [
    "There are misspelled car name which are maxda, nissan, porcshce, toyouta, vokswage and vw. These car name are not different, they just typo."
   ]
  },
  {
   "cell_type": "markdown",
   "metadata": {},
   "source": [
    "**Typo Error in Car Company name**\n",
    "- maxda = mazda\n",
    "- Nissan = nissan\n",
    "- porsche = porcshce\n",
    "- toyota = toyouta\n",
    "- vokswagen = volkswagen = vw"
   ]
  },
  {
   "cell_type": "code",
   "execution_count": 19,
   "metadata": {},
   "outputs": [],
   "source": [
    "# Renaming the typo errors in Car Company names\n",
    "\n",
    "dataset['CarName'] = dataset['CarName'].replace({'maxda': 'mazda', 'nissan': 'Nissan', 'porcshce': 'porsche', 'toyouta': 'toyota', \n",
    "                            'vokswagen': 'volkswagen', 'vw': 'volkswagen'})"
   ]
  },
  {
   "cell_type": "markdown",
   "metadata": {},
   "source": [
    "### 2.2 Change The Data Type of 'symboling' from Int64 to String"
   ]
  },
  {
   "cell_type": "markdown",
   "metadata": {},
   "source": [
    "From the data description, `symboling` feature is actually categorical but in the dataset was numeric. So we will tranform it to string/categorical."
   ]
  },
  {
   "cell_type": "code",
   "execution_count": 20,
   "metadata": {},
   "outputs": [],
   "source": [
    "# changing the datatype of symboling as it is categorical variable as per dictionary file\n",
    "\n",
    "dataset['symboling'] = dataset['symboling'].astype(str)"
   ]
  },
  {
   "cell_type": "markdown",
   "metadata": {},
   "source": [
    "### 2.3 Check The Duplicate Data"
   ]
  },
  {
   "cell_type": "code",
   "execution_count": 21,
   "metadata": {},
   "outputs": [
    {
     "data": {
      "text/html": [
       "<div>\n",
       "<style scoped>\n",
       "    .dataframe tbody tr th:only-of-type {\n",
       "        vertical-align: middle;\n",
       "    }\n",
       "\n",
       "    .dataframe tbody tr th {\n",
       "        vertical-align: top;\n",
       "    }\n",
       "\n",
       "    .dataframe thead th {\n",
       "        text-align: right;\n",
       "    }\n",
       "</style>\n",
       "<table border=\"1\" class=\"dataframe\">\n",
       "  <thead>\n",
       "    <tr style=\"text-align: right;\">\n",
       "      <th></th>\n",
       "      <th>symboling</th>\n",
       "      <th>CarName</th>\n",
       "      <th>fueltype</th>\n",
       "      <th>aspiration</th>\n",
       "      <th>doornumber</th>\n",
       "      <th>carbody</th>\n",
       "      <th>drivewheel</th>\n",
       "      <th>enginelocation</th>\n",
       "      <th>wheelbase</th>\n",
       "      <th>carlength</th>\n",
       "      <th>carwidth</th>\n",
       "      <th>carheight</th>\n",
       "      <th>curbweight</th>\n",
       "      <th>enginetype</th>\n",
       "      <th>cylindernumber</th>\n",
       "      <th>enginesize</th>\n",
       "      <th>fuelsystem</th>\n",
       "      <th>boreratio</th>\n",
       "      <th>stroke</th>\n",
       "      <th>compressionratio</th>\n",
       "      <th>horsepower</th>\n",
       "      <th>peakrpm</th>\n",
       "      <th>citympg</th>\n",
       "      <th>highwaympg</th>\n",
       "      <th>price</th>\n",
       "    </tr>\n",
       "  </thead>\n",
       "  <tbody>\n",
       "  </tbody>\n",
       "</table>\n",
       "</div>"
      ],
      "text/plain": [
       "Empty DataFrame\n",
       "Columns: [symboling, CarName, fueltype, aspiration, doornumber, carbody, drivewheel, enginelocation, wheelbase, carlength, carwidth, carheight, curbweight, enginetype, cylindernumber, enginesize, fuelsystem, boreratio, stroke, compressionratio, horsepower, peakrpm, citympg, highwaympg, price]\n",
       "Index: []"
      ]
     },
     "execution_count": 21,
     "metadata": {},
     "output_type": "execute_result"
    }
   ],
   "source": [
    "# checking for duplicates\n",
    "\n",
    "dataset.loc[dataset.duplicated()]"
   ]
  },
  {
   "cell_type": "markdown",
   "metadata": {},
   "source": [
    "Looks like there are no duplicated rows!"
   ]
  },
  {
   "cell_type": "markdown",
   "metadata": {},
   "source": [
    "### 2,4 Separate The Numerical and Categorical Features"
   ]
  },
  {
   "cell_type": "code",
   "execution_count": 22,
   "metadata": {},
   "outputs": [],
   "source": [
    "# Segregation of Numerical and Categorical Variables/Columns\n",
    "\n",
    "cat_col = dataset.select_dtypes(include=['object']).columns\n",
    "num_col = dataset.select_dtypes(exclude=['object']).columns\n",
    "df_cat = dataset[cat_col]\n",
    "df_num = dataset[num_col]"
   ]
  },
  {
   "cell_type": "markdown",
   "metadata": {},
   "source": [
    "# Part 3: Data Visualization <a id=\"3\"></a> <br>"
   ]
  },
  {
   "cell_type": "markdown",
   "metadata": {},
   "source": [
    "<img src='https://i.pcmag.com/imagery/articles/02Xkt5sp3fVl5rGUtk3DXMi-7.fit_lim.v1569485349.jpg' width='450'> "
   ]
  },
  {
   "cell_type": "markdown",
   "metadata": {},
   "source": [
    " Here we will identify if some predictors directly have a strong association with the outcome variable `price`."
   ]
  },
  {
   "cell_type": "markdown",
   "metadata": {},
   "source": [
    "## 3.1 Visualize The Most Popular Car and Less Popular car"
   ]
  },
  {
   "cell_type": "code",
   "execution_count": 23,
   "metadata": {},
   "outputs": [
    {
     "data": {
      "text/plain": [
       "Text(0, 0.5, 'Count of Cars')"
      ]
     },
     "execution_count": 23,
     "metadata": {},
     "output_type": "execute_result"
    },
    {
     "data": {
      "image/png": "[encoded data removed]",
      "text/plain": [
       "<Figure size 1080x576 with 1 Axes>"
      ]
     },
     "metadata": {},
     "output_type": "display_data"
    }
   ],
   "source": [
    "# Visualizing the different car names available\n",
    "\n",
    "plt.rcParams['figure.figsize'] = [15,8]\n",
    "ax=dataset['CarName'].value_counts().plot(kind='bar',stacked=True, colormap = 'Set1',orientation='vertical',color='#1EB75E')\n",
    "ax.title.set_text('Car Name')\n",
    "plt.xlabel(\"Names of the Car\",fontweight = 'bold')\n",
    "plt.ylabel(\"Count of Cars\",fontweight = 'bold')\n"
   ]
  },
  {
   "cell_type": "markdown",
   "metadata": {},
   "source": [
    "### Insights:\n",
    "- Toyota seems to be the most popular cars.\n",
    "- Mercury seems to be the least popular cars."
   ]
  },
  {
   "cell_type": "markdown",
   "metadata": {},
   "source": [
    "## 3.2 Visualizing the distribution of car prices"
   ]
  },
  {
   "cell_type": "code",
   "execution_count": 24,
   "metadata": {},
   "outputs": [
    {
     "data": {
      "text/plain": [
       "<AxesSubplot:title={'center':'Car Price Distribution Plot'}, xlabel='price', ylabel='Density'>"
      ]
     },
     "execution_count": 24,
     "metadata": {},
     "output_type": "execute_result"
    },
    {
     "data": {
      "image/png": "[encoded data removed]",
      "text/plain": [
       "<Figure size 576x576 with 1 Axes>"
      ]
     },
     "metadata": {},
     "output_type": "display_data"
    }
   ],
   "source": [
    "plt.figure(figsize=(8,8))\n",
    "\n",
    "plt.title('Car Price Distribution Plot')\n",
    "sns.distplot(dataset['price'])"
   ]
  },
  {
   "cell_type": "markdown",
   "metadata": {},
   "source": [
    "### Insights : \n",
    "The plots seems to be positive skewed(right skewed), the prices of almost all cars looks like less than 18000.\n"
   ]
  },
  {
   "cell_type": "markdown",
   "metadata": {},
   "source": [
    "## 3.3 Visualising Numeric Variables\n",
    "\n",
    "Pairplot of all the numeric variables"
   ]
  },
  {
   "cell_type": "code",
   "execution_count": null,
   "metadata": {},
   "outputs": [],
   "source": [
    "ax = sns.pairplot(dataset[num_col])"
   ]
  },
  {
   "cell_type": "markdown",
   "metadata": {},
   "source": [
    "### Insights:\n",
    "- `carwidth` , `carlength`, `curbweight` ,`enginesize` ,`horsepower`seems to have a poitive correlation with price.\n",
    "- `carheight` doesn't show any significant trend with price.\n",
    "- `citympg` , `highwaympg` - seem to have a significant negative correlation with price."
   ]
  },
  {
   "cell_type": "markdown",
   "metadata": {},
   "source": [
    "## 3.4 Visualising The Relation of few more Categorical Variables with 'Prices'\n",
    "\n",
    "Boxplot of all the categorical variables"
   ]
  },
  {
   "cell_type": "code",
   "execution_count": null,
   "metadata": {},
   "outputs": [],
   "source": [
    "plt.figure(figsize=(20, 15))\n",
    "plt.subplot(3,3,1)\n",
    "sns.boxplot(x = 'doornumber', y = 'price', data = dataset)\n",
    "plt.subplot(3,3,2)\n",
    "sns.boxplot(x = 'fueltype', y = 'price', data = dataset)\n",
    "plt.subplot(3,3,3)\n",
    "sns.boxplot(x = 'aspiration', y = 'price', data = dataset)\n",
    "plt.subplot(3,3,4)\n",
    "sns.boxplot(x = 'carbody', y = 'price', data = dataset)\n",
    "plt.subplot(3,3,5)\n",
    "sns.boxplot(x = 'enginelocation', y = 'price', data = dataset)\n",
    "plt.subplot(3,3,6)\n",
    "sns.boxplot(x = 'drivewheel', y = 'price', data = dataset)\n",
    "plt.subplot(3,3,7)\n",
    "sns.boxplot(x = 'enginetype', y = 'price', data = dataset)\n",
    "plt.subplot(3,3,8)\n",
    "sns.boxplot(x = 'cylindernumber', y = 'price', data = dataset)\n",
    "plt.subplot(3,3,9)\n",
    "sns.boxplot(x = 'fuelsystem', y = 'price', data = dataset)\n",
    "plt.show()"
   ]
  },
  {
   "cell_type": "markdown",
   "metadata": {},
   "source": [
    "### Insights 1 :\n",
    "- `DoorNumber` isn't affecting the price much.\n",
    "- The cars with `fueltype` as `diesel` are comparatively expensive than the cars with `fueltype` as `gas`.\n",
    "- All the types of carbody is relatively cheaper as compared to `convertible` carbody.\n",
    "- The cars with `rear enginelocation` are way expensive than cars with `front enginelocation`.\n",
    "- HigerEnd cars seems to have `rwd` drivewheel\n",
    "- Enginetype `ohcv` comes into higher price range cars.\n",
    "- The price of car is directly proportional to `no. of cylinders` in most cases.\n",
    "\n"
   ]
  },
  {
   "cell_type": "code",
   "execution_count": null,
   "metadata": {},
   "outputs": [],
   "source": [
    "plt.figure(figsize=(15, 8))\n",
    "\n",
    "plt.subplot(1,3,1)\n",
    "plt1 = dataset['cylindernumber'].value_counts().plot(kind= 'bar',color='#1B94C4')\n",
    "\n",
    "plt.title('Number of cylinders')\n",
    "plt1.set(xlabel = 'Number of cylinders', ylabel='Frequency of Number of Cylinders')\n",
    "\n",
    "plt.subplot(1,3,2)\n",
    "plt1 = dataset['fueltype'].value_counts().plot(kind= 'bar',color='#1B94C4')\n",
    "plt.title('Fuel Type')\n",
    "plt1.set(xlabel = 'Fuel Type', ylabel='Frequency of Fuel Type')\n",
    "\n",
    "plt.subplot(1,3,3)\n",
    "plt1 = dataset['carbody'].value_counts().plot(kind= 'bar',color='#1B94C4')\n",
    "plt.title('Car body')\n",
    "plt1.set(xlabel = 'Car Body Type', ylabel='Frequency of Car Body')"
   ]
  },
  {
   "cell_type": "markdown",
   "metadata": {},
   "source": [
    "### Insights 2:\n",
    "- The number of cylinders used in most cars is `four`.\n",
    "- Number of `Gas` fueled cars are way more than `diesel` fueled cars.\n",
    "- `Sedan` is the most prefered car type."
   ]
  },
  {
   "cell_type": "markdown",
   "metadata": {},
   "source": [
    "## 3.5 Visualizing The Relationship between 'fuelsystem' vs 'price' with hue 'fueltype'"
   ]
  },
  {
   "cell_type": "code",
   "execution_count": null,
   "metadata": {},
   "outputs": [],
   "source": [
    "plt.figure(figsize = (10, 6))\n",
    "sns.boxplot(x = 'fuelsystem', y = 'price', hue = 'fueltype', data = dataset)\n",
    "plt.show()"
   ]
  },
  {
   "cell_type": "markdown",
   "metadata": {},
   "source": [
    "## 3.6 Visualizing The Relationship between 'carbody' vs 'price' with hue 'enginelocation'"
   ]
  },
  {
   "cell_type": "code",
   "execution_count": null,
   "metadata": {},
   "outputs": [],
   "source": [
    "plt.figure(figsize = (10, 6))\n",
    "sns.boxplot(x = 'carbody', y = 'price', hue = 'enginelocation', data = dataset)\n",
    "plt.show()"
   ]
  },
  {
   "cell_type": "markdown",
   "metadata": {},
   "source": [
    "## 3.7 Visualizing The Relationship between `cylindernumber` vs `price` with hue `fueltype`"
   ]
  },
  {
   "cell_type": "code",
   "execution_count": null,
   "metadata": {},
   "outputs": [],
   "source": [
    "plt.figure(figsize = (10, 6))\n",
    "sns.boxplot(x = 'cylindernumber', y = 'price', hue = 'fueltype', data = dataset)\n",
    "plt.show()"
   ]
  },
  {
   "cell_type": "markdown",
   "metadata": {},
   "source": [
    "## 3.8 Visualizing The Average Prices of Each American Cars"
   ]
  },
  {
   "cell_type": "code",
   "execution_count": null,
   "metadata": {},
   "outputs": [],
   "source": [
    "plt.figure(figsize=(20, 6))\n",
    "\n",
    "dataset_ox = pd.DataFrame(dataset.groupby(['CarName'])['price'].mean().sort_values(ascending = False))\n",
    "dataset_ox.plot.bar()\n",
    "plt.title('Car Company Name vs Average Price')\n",
    "plt.show()"
   ]
  },
  {
   "cell_type": "markdown",
   "metadata": {},
   "source": [
    "#### Insights:\n",
    "- `Jaguar`,`Buick` and `porsche` seems to have the highest average price."
   ]
  },
  {
   "cell_type": "markdown",
   "metadata": {},
   "source": [
    "## 3.9 Visualizing The Average Price of Carbody"
   ]
  },
  {
   "cell_type": "code",
   "execution_count": null,
   "metadata": {},
   "outputs": [],
   "source": [
    "plt.figure(figsize=(15, 6))\n",
    "\n",
    "dataset_oy = pd.DataFrame(dataset.groupby(['carbody'])['price'].mean().sort_values(ascending = False))\n",
    "dataset_oy.plot.bar()\n",
    "plt.title('Cars Carbody vs Average Price')\n",
    "plt.show()"
   ]
  },
  {
   "cell_type": "markdown",
   "metadata": {},
   "source": [
    "#### Insights:\n",
    "- `hardtop` and `convertible` seems to have the highest average price."
   ]
  },
  {
   "cell_type": "code",
   "execution_count": null,
   "metadata": {},
   "outputs": [],
   "source": [
    "#Binning the Car Companies based on avg prices of each car Company.\n",
    "\n",
    "dataset['price'] = dataset['price'].astype('int')\n",
    "dataset_temp = dataset.copy()\n",
    "t = dataset_temp.groupby(['CarName'])['price'].mean()\n",
    "dataset_temp = dataset_temp.merge(t.reset_index(), how='left',on='CarName')\n",
    "bins = [0,10000,20000,40000]\n",
    "label =['Budget_Friendly','Medium_Range','TopNotch_Cars']\n",
    "dataset['Cars_Category'] = pd.cut(dataset_temp['price_y'],bins,right=False,labels=label)\n",
    "dataset.head()"
   ]
  },
  {
   "cell_type": "markdown",
   "metadata": {},
   "source": [
    "#### Significant variables after Visualization\n",
    "- Cars_Category , Engine Type, Fuel Type\n",
    "- Car Body , Aspiration , Cylinder Number \n",
    "- Drivewheel , Curbweight , Car Length \n",
    "- Car Length , Car width , Engine Size\n",
    "- Boreratio , Horse Power , Wheel base \n",
    "- citympg , highwaympg , symboling"
   ]
  },
  {
   "cell_type": "code",
   "execution_count": null,
   "metadata": {},
   "outputs": [],
   "source": [
    "sig_col = ['price','Cars_Category','enginetype','fueltype', 'aspiration','carbody','cylindernumber', 'drivewheel',\n",
    "            'wheelbase','curbweight', 'enginesize', 'boreratio','horsepower', \n",
    "                    'citympg','highwaympg', 'carlength','carwidth']"
   ]
  },
  {
   "cell_type": "code",
   "execution_count": null,
   "metadata": {},
   "outputs": [],
   "source": [
    "dataset = dataset[sig_col]"
   ]
  },
  {
   "cell_type": "markdown",
   "metadata": {},
   "source": [
    "<a id=\"4\"></a> <br>\n",
    "## Part 4: Data Preparation"
   ]
  },
  {
   "cell_type": "markdown",
   "metadata": {},
   "source": [
    "<img src='https://res.cloudinary.com/talend/image/upload/f_auto/q_auto/v1633234205/resources/seo-articles/seo-what-is-data-preparation_jnd1rl.jpg' width='450'> "
   ]
  },
  {
   "cell_type": "markdown",
   "metadata": {},
   "source": [
    "#### Dummy Variables"
   ]
  },
  {
   "cell_type": "markdown",
   "metadata": {},
   "source": [
    "The variable `carbody` has five levels. We need to convert these levels into integer. Similarly we need to convert the categorical variables to numeric.\n",
    "\n",
    "For this, we will use something called `dummy variables`."
   ]
  },
  {
   "cell_type": "code",
   "execution_count": null,
   "metadata": {},
   "outputs": [],
   "source": [
    "sig_cat_col = ['Cars_Category','fueltype','aspiration','carbody','drivewheel','enginetype','cylindernumber']"
   ]
  },
  {
   "cell_type": "code",
   "execution_count": null,
   "metadata": {},
   "outputs": [],
   "source": [
    "# Get the dummy variables for the categorical feature and store it in a new variable - 'dummies'\n",
    "\n",
    "dummies = pd.get_dummies(dataset[sig_cat_col])\n",
    "dummies.shape"
   ]
  },
  {
   "cell_type": "code",
   "execution_count": null,
   "metadata": {},
   "outputs": [],
   "source": [
    "dummies = pd.get_dummies(dataset[sig_cat_col], drop_first = True)\n",
    "dummies.shape"
   ]
  },
  {
   "cell_type": "code",
   "execution_count": null,
   "metadata": {},
   "outputs": [],
   "source": [
    "# Add the results to the original dataframe\n",
    "\n",
    "dataset = pd.concat([dataset, dummies], axis = 1)"
   ]
  },
  {
   "cell_type": "code",
   "execution_count": null,
   "metadata": {},
   "outputs": [],
   "source": [
    "# Drop the original cat variables as dummies are already created\n",
    "\n",
    "dataset.drop( sig_cat_col, axis = 1, inplace = True)\n",
    "dataset.shape"
   ]
  },
  {
   "cell_type": "markdown",
   "metadata": {},
   "source": [
    "<a id=\"5\"></a> <br>\n",
    "## Part 5: Splitting the Data into Training and Testing Sets\n",
    "\n",
    "As we know, the first basic step for regression is performing a train-test split."
   ]
  },
  {
   "cell_type": "markdown",
   "metadata": {},
   "source": [
    "<img src='https://miro.medium.com/max/1400/1*Xa1_gnLz8Pg6EfKwR3jz1A.jpeg' width='450'> "
   ]
  },
  {
   "cell_type": "code",
   "execution_count": null,
   "metadata": {},
   "outputs": [],
   "source": [
    "dataset"
   ]
  },
  {
   "cell_type": "code",
   "execution_count": null,
   "metadata": {},
   "outputs": [],
   "source": [
    "# We specify this so that the train and test data set always have the same rows, respectively\n",
    "# We divide the df into 70/30 ratio\n",
    "\n",
    "np.random.seed(0)\n",
    "df_train, df_test = train_test_split(dataset, train_size = 0.7, test_size = 0.3, random_state = 100)"
   ]
  },
  {
   "cell_type": "code",
   "execution_count": null,
   "metadata": {},
   "outputs": [],
   "source": [
    "df_train.head()"
   ]
  },
  {
   "cell_type": "markdown",
   "metadata": {},
   "source": [
    "### Rescaling the Features \n",
    "\n",
    "For Simple Linear Regression, scaling doesn't impact model. So it is extremely important to rescale the variables so that they have a comparable scale. If we don't have comparable scales, then some of the coefficients as obtained by fitting the regression model might be very large or very small as compared to the other coefficients.\n",
    "There are two common ways of rescaling:\n",
    "\n",
    "1. Min-Max scaling \n",
    "2. Standardisation (mean-0, sigma-1) \n",
    "\n",
    "Here, we will use Standardisation Scaling."
   ]
  },
  {
   "cell_type": "code",
   "execution_count": null,
   "metadata": {},
   "outputs": [],
   "source": [
    "scaler = preprocessing.StandardScaler()"
   ]
  },
  {
   "cell_type": "code",
   "execution_count": null,
   "metadata": {},
   "outputs": [],
   "source": [
    "sig_num_col = ['wheelbase','carlength','carwidth','curbweight','enginesize','boreratio','horsepower','citympg','highwaympg','price']"
   ]
  },
  {
   "cell_type": "code",
   "execution_count": null,
   "metadata": {},
   "outputs": [],
   "source": [
    "# Apply scaler() to all the columns except the 'dummy' variables\n",
    "import warnings\n",
    "warnings.filterwarnings(\"ignore\")\n",
    "\n",
    "df_train[sig_num_col] = scaler.fit_transform(df_train[sig_num_col])"
   ]
  },
  {
   "cell_type": "code",
   "execution_count": null,
   "metadata": {},
   "outputs": [],
   "source": [
    "df_train.head()"
   ]
  },
  {
   "cell_type": "code",
   "execution_count": null,
   "metadata": {},
   "outputs": [],
   "source": [
    "# Let's check the correlation coefficients to see which variables are highly correlated\n",
    "\n",
    "plt.figure(figsize = (20, 20))\n",
    "sns.heatmap(df_train.corr(), cmap=\"RdYlGn\")\n",
    "plt.show()"
   ]
  },
  {
   "cell_type": "markdown",
   "metadata": {},
   "source": [
    "### Dividing into X and Y sets for the model building"
   ]
  },
  {
   "cell_type": "code",
   "execution_count": null,
   "metadata": {},
   "outputs": [],
   "source": [
    "y_train = df_train.pop('price')\n",
    "X_train = df_train"
   ]
  },
  {
   "cell_type": "markdown",
   "metadata": {},
   "source": [
    "<a id=\"6\"></a> <br>\n",
    "## Part 6: Building a Linear Model"
   ]
  },
  {
   "cell_type": "markdown",
   "metadata": {},
   "source": [
    "https://miro.medium.com/max/1200/1*N1-K-A43_98pYZ27fnupDA.jpeg"
   ]
  },
  {
   "cell_type": "code",
   "execution_count": null,
   "metadata": {},
   "outputs": [],
   "source": [
    "X_train_1 = X_train['horsepower']"
   ]
  },
  {
   "cell_type": "code",
   "execution_count": null,
   "metadata": {},
   "outputs": [],
   "source": [
    "# Add a constant\n",
    "X_train_1c = sm.add_constant(X_train_1)\n",
    "\n",
    "# Create a first fitted model\n",
    "lr_1 = sm.OLS(y_train, X_train_1c).fit()"
   ]
  },
  {
   "cell_type": "code",
   "execution_count": null,
   "metadata": {},
   "outputs": [],
   "source": [
    "# Check parameters created\n",
    "\n",
    "lr_1.params"
   ]
  },
  {
   "cell_type": "code",
   "execution_count": null,
   "metadata": {},
   "outputs": [],
   "source": [
    "# Let's visualise the data with a scatter plot and the fitted regression line\n",
    "\n",
    "plt.scatter(X_train_1c.iloc[:, 1], y_train)\n",
    "plt.plot(X_train_1c.iloc[:, 1], 0.8062*X_train_1c.iloc[:, 1], 'r')\n",
    "plt.show()"
   ]
  },
  {
   "cell_type": "code",
   "execution_count": null,
   "metadata": {},
   "outputs": [],
   "source": [
    "# Print a summary of the linear regression model obtained\n",
    "print(lr_1.summary())"
   ]
  },
  {
   "cell_type": "markdown",
   "metadata": {},
   "source": [
    "### Adding another variable\n",
    "\n",
    "The R-squared value obtained is `0.65`. Since we have so many variables, we can clearly do better than this. So let's go ahead and add the other highly correlated variable, i.e. `curbweight`."
   ]
  },
  {
   "cell_type": "code",
   "execution_count": null,
   "metadata": {},
   "outputs": [],
   "source": [
    "X_train_2 = X_train[['horsepower', 'curbweight']]"
   ]
  },
  {
   "cell_type": "code",
   "execution_count": null,
   "metadata": {},
   "outputs": [],
   "source": [
    "# Add a constant\n",
    "X_train_2c = sm.add_constant(X_train_2)\n",
    "\n",
    "# Create a second fitted model\n",
    "lr_2 = sm.OLS(y_train, X_train_2c).fit()"
   ]
  },
  {
   "cell_type": "code",
   "execution_count": null,
   "metadata": {},
   "outputs": [],
   "source": [
    "lr_2.params"
   ]
  },
  {
   "cell_type": "code",
   "execution_count": null,
   "metadata": {},
   "outputs": [],
   "source": [
    "print(lr_2.summary())"
   ]
  },
  {
   "cell_type": "markdown",
   "metadata": {},
   "source": [
    "* The R-squared incresed from 0.650 to 0.797 "
   ]
  },
  {
   "cell_type": "markdown",
   "metadata": {},
   "source": [
    "### Adding another variable\n",
    "\n",
    "The R-squared value obtained is `0.797`. Since we have so many variables, we can clearly do better than this. So lets add another correlated variable, i.e. `enginesize`."
   ]
  },
  {
   "cell_type": "code",
   "execution_count": null,
   "metadata": {},
   "outputs": [],
   "source": [
    "X_train_3 = X_train[['horsepower', 'curbweight', 'enginesize']]"
   ]
  },
  {
   "cell_type": "code",
   "execution_count": null,
   "metadata": {},
   "outputs": [],
   "source": [
    "# Add a constant\n",
    "X_train_3c = sm.add_constant(X_train_3)\n",
    "\n",
    "# Create a third fitted model\n",
    "lr_3 = sm.OLS(y_train, X_train_3c).fit()"
   ]
  },
  {
   "cell_type": "code",
   "execution_count": null,
   "metadata": {},
   "outputs": [],
   "source": [
    "lr_3.params"
   ]
  },
  {
   "cell_type": "code",
   "execution_count": null,
   "metadata": {},
   "outputs": [],
   "source": [
    "print(lr_3.summary())"
   ]
  },
  {
   "cell_type": "markdown",
   "metadata": {},
   "source": [
    "We have achieved a R-squared of `0.819` by manually picking the highly correlated variables.\n",
    "Now lets use RFE to select the independent variables which accurately predicts the dependent variable `price`."
   ]
  },
  {
   "cell_type": "markdown",
   "metadata": {},
   "source": [
    "### RFE\n",
    "Let's use Recursive feature elimination since we have too many independent variables"
   ]
  },
  {
   "cell_type": "code",
   "execution_count": null,
   "metadata": {},
   "outputs": [],
   "source": [
    "# Running RFE with the output number of the variable equal to 15\n",
    "lm = LinearRegression()\n",
    "lm.fit(X_train, y_train)\n",
    "\n",
    "rfe = RFE(lm, step=15)             \n",
    "rfe = rfe.fit(X_train, y_train)"
   ]
  },
  {
   "cell_type": "code",
   "execution_count": null,
   "metadata": {},
   "outputs": [],
   "source": [
    "list(zip(X_train.columns,rfe.support_,rfe.ranking_))"
   ]
  },
  {
   "cell_type": "code",
   "execution_count": null,
   "metadata": {},
   "outputs": [],
   "source": [
    "# Selecting the variables which are in support\n",
    "\n",
    "col_sup = X_train.columns[rfe.support_]\n",
    "col_sup"
   ]
  },
  {
   "cell_type": "code",
   "execution_count": null,
   "metadata": {},
   "outputs": [],
   "source": [
    "# Creating X_train dataframe with RFE selected variables\n",
    "\n",
    "X_train_rfe = X_train[col_sup]"
   ]
  },
  {
   "cell_type": "markdown",
   "metadata": {},
   "source": [
    "After passing the arbitary selected columns by RFE we will manually evaluate each models p-value and VIF value.\n",
    "Unless we find the acceptable range for p-values and VIF we keep dropping the variables one at a time based on below criteria.\n",
    "- High p-value High VIF : Drop the variable\n",
    "- High p-value Low VIF or Low p-value High VIF : Drop the variable with high p-value first\n",
    "- Low p-value Low VIF : accept the variable"
   ]
  },
  {
   "cell_type": "code",
   "execution_count": null,
   "metadata": {},
   "outputs": [],
   "source": [
    "# Adding a constant variable and Build a first fitted model\n",
    "import statsmodels.api as sm  \n",
    "X_train_rfec = sm.add_constant(X_train_rfe)\n",
    "lm_rfe = sm.OLS(y_train,X_train_rfec).fit()\n",
    "\n",
    "#Summary of linear model\n",
    "print(lm_rfe.summary())"
   ]
  },
  {
   "cell_type": "markdown",
   "metadata": {},
   "source": [
    "- Looking at the p-values, it looks like some of the variables aren't really significant (in the presence of other variables)<br>\n",
    "and we need to drop it"
   ]
  },
  {
   "cell_type": "markdown",
   "metadata": {},
   "source": [
    "### Checking VIF\n",
    "\n",
    "Variance Inflation Factor or VIF, gives a basic quantitative idea about how much the feature variables are correlated with each other. It is an extremely important parameter to test our linear model. The formula for calculating `VIF` is:"
   ]
  },
  {
   "cell_type": "markdown",
   "metadata": {},
   "source": [
    " $ VIF_i = \\frac{1}{1 - {R_i}^2} $"
   ]
  },
  {
   "cell_type": "code",
   "execution_count": null,
   "metadata": {},
   "outputs": [],
   "source": [
    "# Create a dataframe that will contain the names of all the feature variables and their respective VIFs\n",
    "vif = pd.DataFrame()\n",
    "vif['Features'] = X_train_rfe.columns\n",
    "vif['VIF'] = [variance_inflation_factor(X_train_rfe.values, i) for i in range(X_train_rfe.shape[1])]\n",
    "vif['VIF'] = round(vif['VIF'], 2)\n",
    "vif = vif.sort_values(by = \"VIF\", ascending = False)\n",
    "vif"
   ]
  },
  {
   "cell_type": "markdown",
   "metadata": {},
   "source": [
    "We generally want a VIF that is less than 5. So there are clearly some variables we need to drop."
   ]
  },
  {
   "cell_type": "markdown",
   "metadata": {},
   "source": [
    "### Dropping the variable and updating the model"
   ]
  },
  {
   "cell_type": "markdown",
   "metadata": {},
   "source": [
    "*Dropping `cylindernumber_three` beacuse its `p-value` is `0.532` and we want p-value less than 0.05 and hence rebuilding the model*"
   ]
  },
  {
   "cell_type": "code",
   "execution_count": null,
   "metadata": {},
   "outputs": [],
   "source": [
    "# Dropping highly correlated variables and insignificant variables\n",
    "\n",
    "X_train_rfe1 = X_train_rfe.drop('cylindernumber_three', 1,)\n",
    "\n",
    "# Adding a constant variable and Build a second fitted model\n",
    "\n",
    "X_train_rfe1c = sm.add_constant(X_train_rfe1)\n",
    "lm_rfe1 = sm.OLS(y_train, X_train_rfe1c).fit()\n",
    "\n",
    "#Summary of linear model\n",
    "print(lm_rfe1.summary())"
   ]
  },
  {
   "cell_type": "code",
   "execution_count": null,
   "metadata": {},
   "outputs": [],
   "source": [
    "# Create a dataframe that will contain the names of all the feature variables and their respective VIFs\n",
    "vif = pd.DataFrame()\n",
    "vif['Features'] = X_train_rfe1.columns\n",
    "vif['VIF'] = [variance_inflation_factor(X_train_rfe1.values, i) for i in range(X_train_rfe1.shape[1])]\n",
    "vif['VIF'] = round(vif['VIF'], 2)\n",
    "vif = vif.sort_values(by = \"VIF\", ascending = False)\n",
    "vif"
   ]
  },
  {
   "cell_type": "markdown",
   "metadata": {},
   "source": [
    "*Dropping `cylindernumber_twelve` beacuse its `p-value` is `0.129` and we want p-value less than 0.05 and hence rebuilding the model*"
   ]
  },
  {
   "cell_type": "code",
   "execution_count": null,
   "metadata": {},
   "outputs": [],
   "source": [
    "# Dropping highly correlated variables and insignificant variables\n",
    "\n",
    "X_train_rfe2 = X_train_rfe1.drop('cylindernumber_twelve', 1,)\n",
    "\n",
    "# Adding a constant variable and Build a third fitted model\n",
    "\n",
    "X_train_rfe2c = sm.add_constant(X_train_rfe2)\n",
    "lm_rfe2 = sm.OLS(y_train, X_train_rfe2c).fit()\n",
    "\n",
    "#Summary of linear model\n",
    "print(lm_rfe2.summary())"
   ]
  },
  {
   "cell_type": "code",
   "execution_count": null,
   "metadata": {},
   "outputs": [],
   "source": [
    "# Create a dataframe that will contain the names of all the feature variables and their respective VIFs\n",
    "vif = pd.DataFrame()\n",
    "vif['Features'] = X_train_rfe2.columns\n",
    "vif['VIF'] = [variance_inflation_factor(X_train_rfe2.values, i) for i in range(X_train_rfe2.shape[1])]\n",
    "vif['VIF'] = round(vif['VIF'], 2)\n",
    "vif = vif.sort_values(by = \"VIF\", ascending = False)\n",
    "vif"
   ]
  },
  {
   "cell_type": "markdown",
   "metadata": {},
   "source": [
    "*Dropping `carbody_hardtop` beacuse its `p-value` is `0.365` and we want p-value less than 0.05 and hence rebuilding the model*"
   ]
  },
  {
   "cell_type": "code",
   "execution_count": null,
   "metadata": {},
   "outputs": [],
   "source": [
    "# Dropping highly correlated variables and insignificant variables\n",
    "\n",
    "X_train_rfe3 = X_train_rfe2.drop('carbody_hardtop', 1,)\n",
    "\n",
    "# Adding a constant variable and Build a fourth fitted model\n",
    "X_train_rfe3c = sm.add_constant(X_train_rfe3)\n",
    "lm_rfe3 = sm.OLS(y_train, X_train_rfe3c).fit()\n",
    "\n",
    "#Summary of linear model\n",
    "print(lm_rfe3.summary())"
   ]
  },
  {
   "cell_type": "code",
   "execution_count": null,
   "metadata": {},
   "outputs": [],
   "source": [
    "# Create a dataframe that will contain the names of all the feature variables and their respective VIFs\n",
    "vif = pd.DataFrame()\n",
    "vif['Features'] = X_train_rfe3.columns\n",
    "vif['VIF'] = [variance_inflation_factor(X_train_rfe3.values, i) for i in range(X_train_rfe3.shape[1])]\n",
    "vif['VIF'] = round(vif['VIF'], 2)\n",
    "vif = vif.sort_values(by = \"VIF\", ascending = False)\n",
    "vif"
   ]
  },
  {
   "cell_type": "markdown",
   "metadata": {},
   "source": [
    "*Dropping `enginetype_dohcv` beacuse its `p-value` is `0.226` and we want p-value less than 0.05 and hence rebuilding the model*"
   ]
  },
  {
   "cell_type": "code",
   "execution_count": null,
   "metadata": {},
   "outputs": [],
   "source": [
    "# Dropping highly correlated variables and insignificant variables\n",
    "\n",
    "X_train_rfe4 = X_train_rfe3.drop('enginetype_dohcv', 1,)\n",
    "\n",
    "# Adding a constant variable and Build a fifth fitted model\n",
    "X_train_rfe4c = sm.add_constant(X_train_rfe4)\n",
    "lm_rfe4 = sm.OLS(y_train, X_train_rfe4c).fit()\n",
    "\n",
    "#Summary of linear model\n",
    "print(lm_rfe4.summary())"
   ]
  },
  {
   "cell_type": "code",
   "execution_count": null,
   "metadata": {},
   "outputs": [],
   "source": [
    "# Create a dataframe that will contain the names of all the feature variables and their respective VIFs\n",
    "vif = pd.DataFrame()\n",
    "vif['Features'] = X_train_rfe4.columns\n",
    "vif['VIF'] = [variance_inflation_factor(X_train_rfe4.values, i) for i in range(X_train_rfe4.shape[1])]\n",
    "vif['VIF'] = round(vif['VIF'], 2)\n",
    "vif = vif.sort_values(by = \"VIF\", ascending = False)\n",
    "vif"
   ]
  },
  {
   "cell_type": "markdown",
   "metadata": {},
   "source": [
    "*Dropping `cylindernumber_five` beacuse its `p-value` is `0.126` and we want p-value less than 0.05 and hence rebuilding the model*"
   ]
  },
  {
   "cell_type": "code",
   "execution_count": null,
   "metadata": {},
   "outputs": [],
   "source": [
    "# Dropping highly correlated variables and insignificant variables\n",
    "\n",
    "X_train_rfe5 = X_train_rfe4.drop('cylindernumber_five', 1,)\n",
    "\n",
    "# Adding a constant variable and Build a sixth fitted model\n",
    "X_train_rfe5c = sm.add_constant(X_train_rfe5)\n",
    "lm_rfe5 = sm.OLS(y_train, X_train_rfe5c).fit()\n",
    "\n",
    "#Summary of linear model\n",
    "print(lm_rfe5.summary())"
   ]
  },
  {
   "cell_type": "code",
   "execution_count": null,
   "metadata": {},
   "outputs": [],
   "source": [
    "# Create a dataframe that will contain the names of all the feature variables and their respective VIFs\n",
    "vif = pd.DataFrame()\n",
    "vif['Features'] = X_train_rfe5.columns\n",
    "vif['VIF'] = [variance_inflation_factor(X_train_rfe5.values, i) for i in range(X_train_rfe5.shape[1])]\n",
    "vif['VIF'] = round(vif['VIF'], 2)\n",
    "vif = vif.sort_values(by = \"VIF\", ascending = False)\n",
    "vif"
   ]
  },
  {
   "cell_type": "markdown",
   "metadata": {},
   "source": [
    "*Dropping `enginetype_ohcf` beacuse its `p-value` is `0.424` and we want p-value less than 0.05 and hence rebuilding the model*"
   ]
  },
  {
   "cell_type": "code",
   "execution_count": null,
   "metadata": {},
   "outputs": [],
   "source": [
    "# Dropping highly correlated variables and insignificant variables\n",
    "\n",
    "X_train_rfe6 = X_train_rfe5.drop('enginetype_ohcf', 1,)\n",
    "\n",
    "# Adding a constant variable and Build a sixth fitted model\n",
    "X_train_rfe6c = sm.add_constant(X_train_rfe6)\n",
    "lm_rfe6 = sm.OLS(y_train, X_train_rfe6c).fit()\n",
    "\n",
    "#Summary of linear model\n",
    "print(lm_rfe6.summary())"
   ]
  },
  {
   "cell_type": "code",
   "execution_count": null,
   "metadata": {},
   "outputs": [],
   "source": [
    "# Create a dataframe that will contain the names of all the feature variables and their respective VIFs\n",
    "vif = pd.DataFrame()\n",
    "vif['Features'] = X_train_rfe6.columns\n",
    "vif['VIF'] = [variance_inflation_factor(X_train_rfe6.values, i) for i in range(X_train_rfe6.shape[1])]\n",
    "vif['VIF'] = round(vif['VIF'], 2)\n",
    "vif = vif.sort_values(by = \"VIF\", ascending = False)\n",
    "vif"
   ]
  },
  {
   "cell_type": "markdown",
   "metadata": {},
   "source": [
    "*Dropping `cylindernumber_four` beacuse its `VIF` is `6.89` and we want VIF less than 5 and hence rebuilding the model*"
   ]
  },
  {
   "cell_type": "code",
   "execution_count": null,
   "metadata": {},
   "outputs": [],
   "source": [
    "# Dropping highly correlated variables and insignificant variables\n",
    "\n",
    "X_train_rfe7 = X_train_rfe6.drop('cylindernumber_four', 1,)\n",
    "\n",
    "# Adding a constant variable and Build a sixth fitted model\n",
    "X_train_rfe7c = sm.add_constant(X_train_rfe7)\n",
    "lm_rfe7 = sm.OLS(y_train, X_train_rfe7c).fit()\n",
    "\n",
    "#Summary of linear model\n",
    "print(lm_rfe7.summary())"
   ]
  },
  {
   "cell_type": "code",
   "execution_count": null,
   "metadata": {},
   "outputs": [],
   "source": [
    "# Create a dataframe that will contain the names of all the feature variables and their respective VIFs\n",
    "vif = pd.DataFrame()\n",
    "vif['Features'] = X_train_rfe7.columns\n",
    "vif['VIF'] = [variance_inflation_factor(X_train_rfe7.values, i) for i in range(X_train_rfe7.shape[1])]\n",
    "vif['VIF'] = round(vif['VIF'], 2)\n",
    "vif = vif.sort_values(by = \"VIF\", ascending = False)\n",
    "vif"
   ]
  },
  {
   "cell_type": "markdown",
   "metadata": {},
   "source": [
    "*Dropping `cylindernumber_six` beacuse its `P-value` is `0.268` we want p-value less than 0.05 and hence rebuilding the model*"
   ]
  },
  {
   "cell_type": "code",
   "execution_count": null,
   "metadata": {},
   "outputs": [],
   "source": [
    "# Dropping highly correlated variables and insignificant variables\n",
    "\n",
    "X_train_rfe8 = X_train_rfe7.drop('cylindernumber_six', 1,)\n",
    "\n",
    "# Adding a constant variable and Build a sixth fitted model\n",
    "X_train_rfe8c = sm.add_constant(X_train_rfe8)\n",
    "lm_rfe8 = sm.OLS(y_train, X_train_rfe8c).fit()\n",
    "\n",
    "#Summary of linear model\n",
    "print(lm_rfe8.summary())"
   ]
  },
  {
   "cell_type": "code",
   "execution_count": null,
   "metadata": {},
   "outputs": [],
   "source": [
    "# Create a dataframe that will contain the names of all the feature variables and their respective VIFs\n",
    "vif = pd.DataFrame()\n",
    "vif['Features'] = X_train_rfe8.columns\n",
    "vif['VIF'] = [variance_inflation_factor(X_train_rfe8.values, i) for i in range(X_train_rfe8.shape[1])]\n",
    "vif['VIF'] = round(vif['VIF'], 2)\n",
    "vif = vif.sort_values(by = \"VIF\", ascending = False)\n",
    "vif"
   ]
  },
  {
   "cell_type": "markdown",
   "metadata": {},
   "source": [
    "Lets drop `carbody_sedan` and see if there is any drastic fall in R squared.If not we can drop `carbody sedan`.\n",
    "Our aim is to explain the maximum variance with minimum variable."
   ]
  },
  {
   "cell_type": "code",
   "execution_count": null,
   "metadata": {},
   "outputs": [],
   "source": [
    "# Dropping highly correlated variables and insignificant variables\n",
    "\n",
    "X_train_rfe9 = X_train_rfe8.drop('carbody_sedan', 1,)\n",
    "\n",
    "# Adding a constant variable and Build a sixth fitted model\n",
    "X_train_rfe9c = sm.add_constant(X_train_rfe9)\n",
    "lm_rfe9 = sm.OLS(y_train, X_train_rfe9c).fit()\n",
    "\n",
    "#Summary of linear model\n",
    "print(lm_rfe9.summary())"
   ]
  },
  {
   "cell_type": "markdown",
   "metadata": {},
   "source": [
    "The R squared value just dropped by `0.003`.Hence we can proceed with dropping `carbody_sedan`."
   ]
  },
  {
   "cell_type": "code",
   "execution_count": null,
   "metadata": {},
   "outputs": [],
   "source": [
    "# Create a dataframe that will contain the names of all the feature variables and their respective VIFs\n",
    "vif = pd.DataFrame()\n",
    "vif['Features'] = X_train_rfe9.columns\n",
    "vif['VIF'] = [variance_inflation_factor(X_train_rfe9.values, i) for i in range(X_train_rfe9.shape[1])]\n",
    "vif['VIF'] = round(vif['VIF'], 2)\n",
    "vif = vif.sort_values(by = \"VIF\", ascending = False)\n",
    "vif"
   ]
  },
  {
   "cell_type": "markdown",
   "metadata": {},
   "source": [
    "*Dropping `enginetype_ohc` because its `p-value` is `0.470` and we want p-value less than 0.05 and hence rebuilding the model*"
   ]
  },
  {
   "cell_type": "code",
   "execution_count": null,
   "metadata": {},
   "outputs": [],
   "source": [
    "# Dropping highly correlated variables and insignificant variables\n",
    "\n",
    "X_train_rfe10 = X_train_rfe9.drop('enginetype_ohc', 1,)\n",
    "\n",
    "# Adding a constant variable and Build a sixth fitted model\n",
    "X_train_rfe10c = sm.add_constant(X_train_rfe10)\n",
    "lm_rfe10 = sm.OLS(y_train, X_train_rfe10c).fit()\n",
    "\n",
    "#Summary of linear model\n",
    "print(lm_rfe10.summary())"
   ]
  },
  {
   "cell_type": "code",
   "execution_count": null,
   "metadata": {},
   "outputs": [],
   "source": [
    "# Create a dataframe that will contain the names of all the feature variables and their respective VIFs\n",
    "vif = pd.DataFrame()\n",
    "vif['Features'] = X_train_rfe10.columns\n",
    "vif['VIF'] = [variance_inflation_factor(X_train_rfe10.values, i) for i in range(X_train_rfe10.shape[1])]\n",
    "vif['VIF'] = round(vif['VIF'], 2)\n",
    "vif = vif.sort_values(by = \"VIF\", ascending = False)\n",
    "vif"
   ]
  },
  {
   "cell_type": "markdown",
   "metadata": {},
   "source": [
    "*Dropping `carbody_hatchback` because its `p-value` is `0.019` and we want p-value less than 0.05 and hence rebuilding the model*"
   ]
  },
  {
   "cell_type": "code",
   "execution_count": null,
   "metadata": {},
   "outputs": [],
   "source": [
    "# Dropping highly correlated variables and insignificant variables\n",
    "\n",
    "X_train_rfe11 = X_train_rfe10.drop('carbody_hatchback', 1,)\n",
    "\n",
    "# Adding a constant variable and Build a sixth fitted model\n",
    "X_train_rfe11c = sm.add_constant(X_train_rfe11)\n",
    "lm_rfe11 = sm.OLS(y_train, X_train_rfe11c).fit()\n",
    "\n",
    "#Summary of linear model\n",
    "print(lm_rfe11.summary())"
   ]
  },
  {
   "cell_type": "code",
   "execution_count": null,
   "metadata": {},
   "outputs": [],
   "source": [
    "# Create a dataframe that will contain the names of all the feature variables and their respective VIFs\n",
    "vif = pd.DataFrame()\n",
    "vif['Features'] = X_train_rfe11.columns\n",
    "vif['VIF'] = [variance_inflation_factor(X_train_rfe11.values, i) for i in range(X_train_rfe11.shape[1])]\n",
    "vif['VIF'] = round(vif['VIF'], 2)\n",
    "vif = vif.sort_values(by = \"VIF\", ascending = False)\n",
    "vif"
   ]
  },
  {
   "cell_type": "markdown",
   "metadata": {},
   "source": [
    "Now the VIFs and p-values both are within an acceptable range. So we can go ahead and make our predictions using model `lm_rfe11`."
   ]
  },
  {
   "cell_type": "markdown",
   "metadata": {},
   "source": [
    "Here, we are proposing Business 1 Model which can be used to predict the car prices."
   ]
  },
  {
   "cell_type": "markdown",
   "metadata": {},
   "source": [
    "## Linear Model\n",
    "- With `lm_rfe11` which has basically 4 predictor variables."
   ]
  },
  {
   "cell_type": "markdown",
   "metadata": {},
   "source": [
    "<a id=\"7\"></a> <br>\n",
    "## Part 7: Residual Analysis of the train data\n",
    "\n",
    "So, now to check if the error terms are also normally distributed (which is infact, one of the major assumptions of linear regression), let us plot the histogram of it."
   ]
  },
  {
   "cell_type": "code",
   "execution_count": null,
   "metadata": {},
   "outputs": [],
   "source": [
    "# Predicting the price of training set.\n",
    "y_train_price = lm_rfe11.predict(X_train_rfe11c)"
   ]
  },
  {
   "cell_type": "code",
   "execution_count": null,
   "metadata": {},
   "outputs": [],
   "source": [
    "# Plot the histogram of the error terms\n",
    "fig = plt.figure()\n",
    "sns.distplot((y_train - y_train_price), bins = 20)\n",
    "fig.suptitle('Error Terms Analysis', fontsize = 20)                   \n",
    "plt.xlabel('Errors', fontsize = 18)"
   ]
  },
  {
   "cell_type": "markdown",
   "metadata": {},
   "source": [
    "<a id=\"8\"></a> <br>\n",
    "## Part 8: Making Predictions Using the Final Model\n",
    "\n",
    "Now that we have fitted the model and checked the normality of error terms, it's time to go ahead and make predictions using the final model."
   ]
  },
  {
   "cell_type": "markdown",
   "metadata": {},
   "source": [
    "#### Applying the scaling on the test sets"
   ]
  },
  {
   "cell_type": "markdown",
   "metadata": {},
   "source": [
    "**Because we just scaling the train data only, now we need to scaling the test set data too**."
   ]
  },
  {
   "cell_type": "code",
   "execution_count": null,
   "metadata": {},
   "outputs": [],
   "source": [
    "import warnings\n",
    "warnings.filterwarnings(\"ignore\")\n",
    "\n",
    "df_test[sig_num_col] = scaler.transform(df_test[sig_num_col])\n",
    "df_test.shape"
   ]
  },
  {
   "cell_type": "markdown",
   "metadata": {},
   "source": [
    "#### Dividing test set into X_test and y_test"
   ]
  },
  {
   "cell_type": "code",
   "execution_count": null,
   "metadata": {},
   "outputs": [],
   "source": [
    "y_test = df_test.pop('price')\n",
    "X_test = df_test"
   ]
  },
  {
   "cell_type": "code",
   "execution_count": null,
   "metadata": {},
   "outputs": [],
   "source": [
    "# Adding constant\n",
    "X_test_1 = sm.add_constant(X_test)\n",
    "\n",
    "X_test_new = X_test_1[X_train_rfe11c.columns]"
   ]
  },
  {
   "cell_type": "code",
   "execution_count": null,
   "metadata": {},
   "outputs": [],
   "source": [
    "# Making predictions using the final model\n",
    "y_pred = lm_rfe11.predict(X_test_new)"
   ]
  },
  {
   "cell_type": "markdown",
   "metadata": {},
   "source": [
    "<a id=\"9\"></a> <br>\n",
    "## Part 9: Model Evaluation\n",
    "\n",
    "Let's now plot the graph for actual versus predicted values."
   ]
  },
  {
   "cell_type": "code",
   "execution_count": null,
   "metadata": {},
   "outputs": [],
   "source": [
    "# Plotting y_test and y_pred to understand the spread.\n",
    "fig = plt.figure()\n",
    "plt.scatter(y_test,y_pred)\n",
    "fig.suptitle('y_test vs y_pred', fontsize=20)   \n",
    "plt.xlabel('y_test ', fontsize=18)                       \n",
    "plt.ylabel('y_pred', fontsize=16)    "
   ]
  },
  {
   "cell_type": "markdown",
   "metadata": {},
   "source": [
    "### RMSE Score"
   ]
  },
  {
   "cell_type": "code",
   "execution_count": null,
   "metadata": {},
   "outputs": [],
   "source": [
    "r2_score(y_test, y_pred)"
   ]
  },
  {
   "cell_type": "markdown",
   "metadata": {},
   "source": [
    "**The R2 score of Training set is 0.913 and Test set is 0.882 which is quite close.\n",
    "Hence, We can say that our model is good enough to predict the Car prices using below predictor variables**\n",
    "- curbweight\n",
    "- horsepower\t\n",
    "- Cars_Category_TopNotch_Cars\n",
    "- carbody_wagon"
   ]
  },
  {
   "cell_type": "markdown",
   "metadata": {},
   "source": [
    "### Final Equation of Line to predict the Car prices values"
   ]
  },
  {
   "cell_type": "markdown",
   "metadata": {},
   "source": [
    "$ Carprice = -0.1137 +  0.4961  \\times  curbweight  + 0.2062  \\times  horsepower +  1.2154 \\times CarsCategoryTopNotchCars  - 0.2317 \\times CarbodyWagon $"
   ]
  },
  {
   "cell_type": "markdown",
   "metadata": {},
   "source": [
    "#### Linear Model Conclusions:\n",
    "- R-sqaured and Adjusted R-squared - 0.909 and 0.907 - 90% variance explained.\n",
    "- F-stats and Prob(F-stats) (overall model fit) - 284.8 and 1.57e-70(approx. 0.0) - Model fit is significant and explained 90%<br> variance is just not by chance.\n",
    "- p-values for all the coefficients seem to be less than the significance level of 0.05. - meaning that all the <br>predictors are statistically significant."
   ]
  },
  {
   "cell_type": "markdown",
   "metadata": {},
   "source": [
    "### Closing Statement:\n",
    "So, This finishes our project.The model is good enough to predict the carprices which explains the variance of data upto 90% and the model is significant. We have built a linear regression model that performs reasonably well given the 4 features. But should the model should be used in a real-world setting? It probably shouldn't because: \n",
    "\n",
    "- The data collected in before 2000 is not really relevant today due to the possibility of material of old cars and present are different, it may cause differences in price.\n",
    "- The features present in the data that we built our model on are not likely be sufficient to describe newest cars. Examples of interesting features to look at may be *Rarity* some classic cars maybe can get higher prices.  "
   ]
  }
 ],
 "metadata": {
  "kernelspec": {
   "display_name": "Python 3",
   "language": "python",
   "name": "python3"
  },
  "language_info": {
   "codemirror_mode": {
    "name": "ipython",
    "version": 3
   },
   "file_extension": ".py",
   "mimetype": "text/x-python",
   "name": "python",
   "nbconvert_exporter": "python",
   "pygments_lexer": "ipython3",
   "version": "3.8.8"
  }
 },
 "nbformat": 4,
 "nbformat_minor": 4
}
